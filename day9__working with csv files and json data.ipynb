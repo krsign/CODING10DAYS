{
 "cells": [
  {
   "cell_type": "markdown",
   "metadata": {},
   "source": [
    "### CSV \n",
    "        - comma-separated value"
   ]
  },
  {
   "cell_type": "markdown",
   "metadata": {},
   "source": [
    "#### the csv module"
   ]
  },
  {
   "cell_type": "markdown",
   "metadata": {},
   "source": [
    "    -Each line in a CSV file represents a row in the spreadsheet, and commas seperate the cells in the row!"
   ]
  },
  {
   "cell_type": "code",
   "execution_count": 2,
   "metadata": {},
   "outputs": [],
   "source": [
    "import csv"
   ]
  },
  {
   "cell_type": "code",
   "execution_count": 9,
   "metadata": {},
   "outputs": [
    {
     "data": {
      "text/plain": [
       "[['4/5/2015 13:34', 'Apples', '73'],\n",
       " ['4/5/2015 3:41', 'Cherries', '85'],\n",
       " ['4/6/2015 12:46', 'Pears', '14'],\n",
       " ['4/8/2015 8:59', 'Oranges', '52'],\n",
       " ['4/10/2015 2:07', 'Apples', '152'],\n",
       " ['4/10/2015 18:10', 'Bananas', '23'],\n",
       " ['4/10/2015 2:40', 'Strawberries', '98']]"
      ]
     },
     "execution_count": 9,
     "metadata": {},
     "output_type": "execute_result"
    }
   ],
   "source": [
    "exampleFile = open('example.csv')\n",
    "\n",
    "exampleReader = csv.reader(exampleFile)\n",
    "\n",
    "exampleData = list(exampleReader)\n",
    "\n",
    "# print(exampleData)\n",
    "exampleData"
   ]
  },
  {
   "cell_type": "code",
   "execution_count": 13,
   "metadata": {},
   "outputs": [
    {
     "name": "stdout",
     "output_type": "stream",
     "text": [
      "Apples\n",
      "Apples\n"
     ]
    }
   ],
   "source": [
    "print(exampleData[0][-2])\n",
    "print(exampleData[0][1])"
   ]
  },
  {
   "cell_type": "markdown",
   "metadata": {},
   "source": [
    "### reading Data from Reader objects in a for loop\n",
    "        - avoids loading the entire file into memory at once"
   ]
  },
  {
   "cell_type": "code",
   "execution_count": 23,
   "metadata": {},
   "outputs": [
    {
     "name": "stdout",
     "output_type": "stream",
     "text": [
      "Row #1 ['4/5/2015 13:34', 'Apples', '73']\n",
      "Row #2 ['4/5/2015 3:41', 'Cherries', '85']\n",
      "Row #3 ['4/6/2015 12:46', 'Pears', '14']\n",
      "Row #4 ['4/8/2015 8:59', 'Oranges', '52']\n",
      "Row #5 ['4/10/2015 2:07', 'Apples', '152']\n",
      "Row #6 ['4/10/2015 18:10', 'Bananas', '23']\n",
      "Row #7 ['4/10/2015 2:40', 'Strawberries', '98']\n"
     ]
    }
   ],
   "source": [
    "import csv\n",
    "\n",
    "exampleFile = open('example.csv')\n",
    "exampleReader = csv.reader(exampleFile)\n",
    "\n",
    "for row in exampleReader:\n",
    "    print('Row #' + str(exampleReader.line_num) + ' '+ str(row))\n",
    "\n",
    "# to reread again we have to create reader object again"
   ]
  },
  {
   "cell_type": "markdown",
   "metadata": {},
   "source": [
    "### writing objects\n",
    "        - to write use csv.writer() \n",
    "        - steps\n",
    "            - import csv\n",
    "            - open or create file using open\n",
    "                - file.csv\n",
    "                - mode    : w\n",
    "                - newlinw : ''\n",
    "            - use csv.writer objects to feed data in file\n",
    "            - input data in row using 'writerow()'"
   ]
  },
  {
   "cell_type": "code",
   "execution_count": 34,
   "metadata": {},
   "outputs": [],
   "source": [
    "import csv\n",
    "\n",
    "outputFile = open('output.csv', 'w', newline='')\n",
    "\n",
    "outputWritter = csv.writer(outputFile)\n",
    "\n",
    "outputWritter.writerow(['Hello', 'Eggs', 'Bacon', 'Ham'])\n",
    "\n",
    "outputWritter.writerow(['spam', 'trash', 'goal', 'catch'])\n",
    "\n",
    "outputWritter.writerow([1,2,3.141, 4])\n",
    "\n",
    "outputFile.close()"
   ]
  },
  {
   "cell_type": "code",
   "execution_count": 39,
   "metadata": {},
   "outputs": [
    {
     "data": {
      "text/plain": [
       "[['Hello', 'Eggs', 'Bacon', 'Ham'],\n",
       " ['spam', 'trash', 'goal', 'catch'],\n",
       " ['1', '2', '3.141', '4']]"
      ]
     },
     "execution_count": 39,
     "metadata": {},
     "output_type": "execute_result"
    }
   ],
   "source": [
    "# reading csv file from output.csv\n",
    "\n",
    "import csv\n",
    "\n",
    "openFile = open('output.csv')\n",
    "\n",
    "csvReader = csv.reader(openFile)\n",
    "\n",
    "readCSV = list(csvReader)\n",
    "\n",
    "readCSV"
   ]
  }
 ],
 "metadata": {
  "kernelspec": {
   "display_name": "Python 3",
   "language": "python",
   "name": "python3"
  },
  "language_info": {
   "codemirror_mode": {
    "name": "ipython",
    "version": 3
   },
   "file_extension": ".py",
   "mimetype": "text/x-python",
   "name": "python",
   "nbconvert_exporter": "python",
   "pygments_lexer": "ipython3",
   "version": "3.7.6"
  }
 },
 "nbformat": 4,
 "nbformat_minor": 4
}
