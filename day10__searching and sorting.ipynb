{
 "cells": [
  {
   "cell_type": "markdown",
   "metadata": {},
   "source": [
    "## searching"
   ]
  },
  {
   "cell_type": "code",
   "execution_count": 4,
   "metadata": {},
   "outputs": [
    {
     "data": {
      "text/plain": [
       "True"
      ]
     },
     "execution_count": 4,
     "metadata": {},
     "output_type": "execute_result"
    }
   ],
   "source": [
    "5 in [2,3,4,7,5]"
   ]
  },
  {
   "cell_type": "code",
   "execution_count": 5,
   "metadata": {},
   "outputs": [
    {
     "data": {
      "text/plain": [
       "False"
      ]
     },
     "execution_count": 5,
     "metadata": {},
     "output_type": "execute_result"
    }
   ],
   "source": [
    "3 in [2,4,5,6,7]"
   ]
  },
  {
   "cell_type": "markdown",
   "metadata": {},
   "source": [
    "## the sequential search\n",
    "       "
   ]
  },
  {
   "cell_type": "code",
   "execution_count": 26,
   "metadata": {},
   "outputs": [],
   "source": [
    "def sequentialSearch(array, item):\n",
    "    \n",
    "    found = False\n",
    "    \n",
    "    for i in range(len(array)):\n",
    "        \n",
    "        if array[i] == item:\n",
    "            \n",
    "            found = True\n",
    "            \n",
    "    return found\n",
    "            \n",
    "#     pos = 0\n",
    "#     while pos < len(array) and not found:\n",
    "#         if array[pos] == item:\n",
    "#             found = True\n",
    "#         else:\n",
    "#             pos += 1\n",
    "        \n",
    "#     return found"
   ]
  },
  {
   "cell_type": "code",
   "execution_count": 27,
   "metadata": {},
   "outputs": [
    {
     "name": "stdout",
     "output_type": "stream",
     "text": [
      "True\n",
      "False\n"
     ]
    }
   ],
   "source": [
    "array = [1,2,3,4,18,34,56,36,87,66]\n",
    "\n",
    "print(sequentialSearch(array, 56))\n",
    "print(sequentialSearch(array, 58))"
   ]
  },
  {
   "cell_type": "code",
   "execution_count": 19,
   "metadata": {},
   "outputs": [],
   "source": [
    "# items in order\n",
    "\n",
    "def orderedSequentialSearch(array, item):\n",
    "    pos = 0\n",
    "    found = False\n",
    "    stop = False\n",
    "    \n",
    "    while pos < len(array) and not found and not stop:\n",
    "        if array[pos] == item:\n",
    "            found = True\n",
    "        else:\n",
    "            if array[pos] > item:\n",
    "                stop = True\n",
    "            else:\n",
    "                pos += 1\n",
    "                \n",
    "    return found"
   ]
  },
  {
   "cell_type": "code",
   "execution_count": 21,
   "metadata": {},
   "outputs": [
    {
     "name": "stdout",
     "output_type": "stream",
     "text": [
      "False\n",
      "True\n"
     ]
    }
   ],
   "source": [
    "array = [0,1,2,4,5,6,7,8,9]\n",
    "\n",
    "print(orderedSequentialSearch(array, 3))\n",
    "\n",
    "print(orderedSequentialSearch(array, 4))"
   ]
  },
  {
   "cell_type": "code",
   "execution_count": null,
   "metadata": {},
   "outputs": [],
   "source": []
  }
 ],
 "metadata": {
  "kernelspec": {
   "display_name": "Python 3",
   "language": "python",
   "name": "python3"
  },
  "language_info": {
   "codemirror_mode": {
    "name": "ipython",
    "version": 3
   },
   "file_extension": ".py",
   "mimetype": "text/x-python",
   "name": "python",
   "nbconvert_exporter": "python",
   "pygments_lexer": "ipython3",
   "version": "3.7.6"
  }
 },
 "nbformat": 4,
 "nbformat_minor": 4
}
