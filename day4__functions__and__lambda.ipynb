{
 "cells": [
  {
   "cell_type": "markdown",
   "metadata": {},
   "source": [
    "# function\n",
    "    - block of code, runs when it is called"
   ]
  },
  {
   "cell_type": "code",
   "execution_count": 6,
   "metadata": {},
   "outputs": [
    {
     "name": "stdout",
     "output_type": "stream",
     "text": [
      "function in python!\n"
     ]
    }
   ],
   "source": [
    "def name():\n",
    "    print('function in python!')\n",
    "\n",
    "name()"
   ]
  },
  {
   "cell_type": "markdown",
   "metadata": {},
   "source": [
    "### Arguments"
   ]
  },
  {
   "cell_type": "code",
   "execution_count": 8,
   "metadata": {},
   "outputs": [
    {
     "name": "stdout",
     "output_type": "stream",
     "text": [
      "Mr Aayush Singh\n",
      "Mr krishn kumar\n"
     ]
    }
   ],
   "source": [
    "def display(title, fname, lname):\n",
    "    print(title, fname, lname)\n",
    "\n",
    "display('Mr','Aayush', 'Singh')\n",
    "display('Mr', 'krishn', 'kumar')"
   ]
  },
  {
   "cell_type": "markdown",
   "metadata": {},
   "source": [
    "### Arbitrary Arguments\n",
    "        - used when programmer is not sure that how many arguments will be passed\n",
    "        - use * "
   ]
  },
  {
   "cell_type": "code",
   "execution_count": 22,
   "metadata": {},
   "outputs": [
    {
     "name": "stdout",
     "output_type": "stream",
     "text": [
      "(100, 200, 300, 400)\n"
     ]
    },
    {
     "data": {
      "text/plain": [
       "1000"
      ]
     },
     "execution_count": 22,
     "metadata": {},
     "output_type": "execute_result"
    }
   ],
   "source": [
    "def add(*args):\n",
    "    print(args)\n",
    "    \n",
    "    return sum(args)\n",
    "\n",
    "add(100,200,300,400)"
   ]
  },
  {
   "cell_type": "markdown",
   "metadata": {},
   "source": [
    "### keyword arguments"
   ]
  },
  {
   "cell_type": "code",
   "execution_count": 12,
   "metadata": {},
   "outputs": [
    {
     "name": "stdout",
     "output_type": "stream",
     "text": [
      "krishna kumar 22\n"
     ]
    }
   ],
   "source": [
    "def display(fname, lname, age):\n",
    "    print('{} {} {}'.format(fname, lname, age))\n",
    "\n",
    "display(age = 22, lname = 'kumar', fname = 'krishna')"
   ]
  },
  {
   "cell_type": "markdown",
   "metadata": {},
   "source": [
    "### Arbitrary Keyword Arguments"
   ]
  },
  {
   "cell_type": "code",
   "execution_count": 27,
   "metadata": {},
   "outputs": [
    {
     "name": "stdout",
     "output_type": "stream",
     "text": [
      "krsign\n",
      "krsign@gmail.com\n"
     ]
    }
   ],
   "source": [
    "def registration(**kwargs):\n",
    "    \n",
    "#     print(kwargs)\n",
    "    print(kwargs.get('username'))\n",
    "    print(kwargs.get('email'))\n",
    "\n",
    "registration(username='krsign', email='krsign@gmail.com', password='krsign@123')"
   ]
  }
 ],
 "metadata": {
  "kernelspec": {
   "display_name": "Python 3",
   "language": "python",
   "name": "python3"
  },
  "language_info": {
   "codemirror_mode": {
    "name": "ipython",
    "version": 3
   },
   "file_extension": ".py",
   "mimetype": "text/x-python",
   "name": "python",
   "nbconvert_exporter": "python",
   "pygments_lexer": "ipython3",
   "version": "3.7.6"
  }
 },
 "nbformat": 4,
 "nbformat_minor": 4
}
