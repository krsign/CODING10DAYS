{
 "cells": [
  {
   "cell_type": "markdown",
   "metadata": {},
   "source": [
    "# function\n",
    "    - block of code, runs when it is called"
   ]
  },
  {
   "cell_type": "code",
   "execution_count": 6,
   "metadata": {},
   "outputs": [
    {
     "name": "stdout",
     "output_type": "stream",
     "text": [
      "function in python!\n"
     ]
    }
   ],
   "source": [
    "def name():\n",
    "    print('function in python!')\n",
    "\n",
    "name()"
   ]
  },
  {
   "cell_type": "markdown",
   "metadata": {},
   "source": [
    "### Arguments"
   ]
  },
  {
   "cell_type": "code",
   "execution_count": 8,
   "metadata": {},
   "outputs": [
    {
     "name": "stdout",
     "output_type": "stream",
     "text": [
      "Mr Aayush Singh\n",
      "Mr krishn kumar\n"
     ]
    }
   ],
   "source": [
    "def display(title, fname, lname):\n",
    "    print(title, fname, lname)\n",
    "\n",
    "display('Mr','Aayush', 'Singh')\n",
    "display('Mr', 'krishn', 'kumar')"
   ]
  },
  {
   "cell_type": "markdown",
   "metadata": {},
   "source": [
    "### Arbitrary Arguments\n",
    "        - used when programmer is not sure that how many arguments will be passed\n",
    "        - use * "
   ]
  },
  {
   "cell_type": "code",
   "execution_count": 22,
   "metadata": {},
   "outputs": [
    {
     "name": "stdout",
     "output_type": "stream",
     "text": [
      "(100, 200, 300, 400)\n"
     ]
    },
    {
     "data": {
      "text/plain": [
       "1000"
      ]
     },
     "execution_count": 22,
     "metadata": {},
     "output_type": "execute_result"
    }
   ],
   "source": [
    "def add(*args):\n",
    "    print(args)\n",
    "    \n",
    "    return sum(args)\n",
    "\n",
    "add(100,200,300,400)"
   ]
  },
  {
   "cell_type": "markdown",
   "metadata": {},
   "source": [
    "### keyword arguments"
   ]
  },
  {
   "cell_type": "code",
   "execution_count": 12,
   "metadata": {},
   "outputs": [
    {
     "name": "stdout",
     "output_type": "stream",
     "text": [
      "krishna kumar 22\n"
     ]
    }
   ],
   "source": [
    "def display(fname, lname, age):\n",
    "    print('{} {} {}'.format(fname, lname, age))\n",
    "\n",
    "display(age = 22, lname = 'kumar', fname = 'krishna')"
   ]
  },
  {
   "cell_type": "markdown",
   "metadata": {},
   "source": [
    "### Arbitrary Keyword Arguments"
   ]
  },
  {
   "cell_type": "code",
   "execution_count": 27,
   "metadata": {},
   "outputs": [
    {
     "name": "stdout",
     "output_type": "stream",
     "text": [
      "krsign\n",
      "krsign@gmail.com\n"
     ]
    }
   ],
   "source": [
    "def registration(**kwargs):\n",
    "    \n",
    "#     print(kwargs)\n",
    "    print(kwargs.get('username'))\n",
    "    print(kwargs.get('email'))\n",
    "\n",
    "registration(username='krsign', email='krsign@gmail.com', password='krsign@123')"
   ]
  },
  {
   "cell_type": "markdown",
   "metadata": {},
   "source": [
    "### passing a list as argument"
   ]
  },
  {
   "cell_type": "code",
   "execution_count": 39,
   "metadata": {},
   "outputs": [
    {
     "name": "stdout",
     "output_type": "stream",
     "text": [
      "krishna\n",
      "abhishek\n",
      "vikash\n",
      "shubham\n"
     ]
    }
   ],
   "source": [
    "def display(names):\n",
    "    for x in names:\n",
    "        print(x)\n",
    "    \n",
    "names = ['krishna', 'abhishek', 'vikash', 'shubham']\n",
    "\n",
    "display(names)"
   ]
  },
  {
   "cell_type": "markdown",
   "metadata": {},
   "source": [
    "### return values"
   ]
  },
  {
   "cell_type": "code",
   "execution_count": 44,
   "metadata": {},
   "outputs": [
    {
     "data": {
      "text/plain": [
       "18.846"
      ]
     },
     "execution_count": 44,
     "metadata": {},
     "output_type": "execute_result"
    }
   ],
   "source": [
    "def area(r):\n",
    "    return (2 * 3.141 * r)\n",
    "\n",
    "area(3)"
   ]
  },
  {
   "cell_type": "markdown",
   "metadata": {},
   "source": [
    "# lambda\n",
    "        - anonymous function"
   ]
  },
  {
   "cell_type": "code",
   "execution_count": 46,
   "metadata": {},
   "outputs": [
    {
     "name": "stdout",
     "output_type": "stream",
     "text": [
      "20\n"
     ]
    }
   ],
   "source": [
    "# add\n",
    "x = lambda a : a + 10\n",
    "\n",
    "print(x(10))"
   ]
  },
  {
   "cell_type": "code",
   "execution_count": 49,
   "metadata": {},
   "outputs": [
    {
     "name": "stdout",
     "output_type": "stream",
     "text": [
      "50\n"
     ]
    }
   ],
   "source": [
    "# multiple arguments\n",
    "\n",
    "perimeter = lambda l, b : 2 * (l + b)\n",
    "\n",
    "print(perimeter(l=10, b=15))"
   ]
  },
  {
   "cell_type": "code",
   "execution_count": 5,
   "metadata": {},
   "outputs": [
    {
     "name": "stdout",
     "output_type": "stream",
     "text": [
      "289\n"
     ]
    }
   ],
   "source": [
    "# square\n",
    "\n",
    "x = lambda a : a ** 2\n",
    "\n",
    "print(x(17))"
   ]
  },
  {
   "cell_type": "code",
   "execution_count": 11,
   "metadata": {},
   "outputs": [
    {
     "name": "stdout",
     "output_type": "stream",
     "text": [
      "7\n"
     ]
    }
   ],
   "source": [
    "# which one is greater\n",
    "\n",
    "x = lambda a, b : a if a > b else b\n",
    "\n",
    "print(x(3,7))"
   ]
  }
 ],
 "metadata": {
  "kernelspec": {
   "display_name": "Python 3",
   "language": "python",
   "name": "python3"
  },
  "language_info": {
   "codemirror_mode": {
    "name": "ipython",
    "version": 3
   },
   "file_extension": ".py",
   "mimetype": "text/x-python",
   "name": "python",
   "nbconvert_exporter": "python",
   "pygments_lexer": "ipython3",
   "version": "3.7.6"
  }
 },
 "nbformat": 4,
 "nbformat_minor": 4
}
