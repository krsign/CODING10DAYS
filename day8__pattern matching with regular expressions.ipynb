{
 "cells": [
  {
   "cell_type": "markdown",
   "metadata": {},
   "source": [
    "### finding patterns of text without regual expressions"
   ]
  },
  {
   "cell_type": "code",
   "execution_count": 4,
   "metadata": {},
   "outputs": [],
   "source": [
    "# phone number in a string\n",
    "# xxx-xxx-xxxx valid number\n",
    "\n",
    "def isPhoneNumber(text):\n",
    "    if len(text) !=12:\n",
    "        return False\n",
    "    \n",
    "    for i in range(0,3):\n",
    "        if not text[i].isdecimal():\n",
    "            return False\n",
    "        \n",
    "    if text[3] != '-':\n",
    "        return False\n",
    "    \n",
    "    for i in range(4,7):\n",
    "        if not text[i].isdecimal():\n",
    "            return False\n",
    "    \n",
    "    if text[7] != '-':\n",
    "        return False\n",
    "    \n",
    "    for i in range(8,12):\n",
    "        if not text[i].isdecimal():\n",
    "            return False\n",
    "        \n",
    "    return True"
   ]
  },
  {
   "cell_type": "code",
   "execution_count": 5,
   "metadata": {},
   "outputs": [
    {
     "name": "stdout",
     "output_type": "stream",
     "text": [
      "415-555-4242 is a phone number?\n",
      "True\n",
      "\n",
      "\n",
      "454-333-333 is a phone number?\n",
      "False\n"
     ]
    }
   ],
   "source": [
    "print('415-555-4242 is a phone number?') \n",
    "print(isPhoneNumber('415-555-4242'))\n",
    "print('\\n')\n",
    "print('454-333-333 is a phone number?') \n",
    "print(isPhoneNumber('454-333-333'))"
   ]
  },
  {
   "cell_type": "code",
   "execution_count": 6,
   "metadata": {
    "scrolled": false
   },
   "outputs": [
    {
     "name": "stdout",
     "output_type": "stream",
     "text": [
      "Mob number found: 415-555-4242\n",
      "Mob number found: 415-444-2222\n",
      "All Ok!\n"
     ]
    }
   ],
   "source": [
    "# what if we had large text\n",
    "message = 'Call me at 415-555-4242 tommoron. 415-444-2222 is my office'\n",
    "\n",
    "for i in range(len(message)):\n",
    "#     print(i, message[i])\n",
    "    number = message[i:i+12]\n",
    "#     print(number)\n",
    "    \n",
    "    if isPhoneNumber(number):\n",
    "        print('Mob number found: ' + number)\n",
    "print('All Ok!')"
   ]
  },
  {
   "cell_type": "markdown",
   "metadata": {},
   "source": [
    "## finding patterns of text with regualar expressions"
   ]
  },
  {
   "cell_type": "code",
   "execution_count": null,
   "metadata": {},
   "outputs": [],
   "source": [
    "RegEx : \n",
    "    \\d  : digit chars(1,2,3,4,5,6,7,8,9,0)\n",
    "    {n} : \\d{3}-\\d{3}-\\d{4}"
   ]
  },
  {
   "cell_type": "markdown",
   "metadata": {},
   "source": [
    "#### creating regex objects"
   ]
  },
  {
   "cell_type": "code",
   "execution_count": 1,
   "metadata": {},
   "outputs": [],
   "source": [
    "import re"
   ]
  },
  {
   "cell_type": "code",
   "execution_count": 2,
   "metadata": {},
   "outputs": [
    {
     "name": "stdout",
     "output_type": "stream",
     "text": [
      "phone number found: 415-234-4567\n"
     ]
    }
   ],
   "source": [
    "phoneNumRegex = re.compile(r'\\d\\d\\d-\\d\\d\\d-\\d\\d\\d\\d')\n",
    "\n",
    "# matching regex objects\n",
    "mo = phoneNumRegex.search('My number is 415-234-4567.')\n",
    "\n",
    "print('phone number found: '+ mo.group())"
   ]
  },
  {
   "cell_type": "code",
   "execution_count": 3,
   "metadata": {},
   "outputs": [
    {
     "name": "stdout",
     "output_type": "stream",
     "text": [
      "search found. 4444 3333 6666\n"
     ]
    }
   ],
   "source": [
    "aadharNum = 'aadhar format look like this -> 4444 3333 6666'\n",
    "\n",
    "# regex objects\n",
    "aadharRegex = re.compile(r'\\d{4} \\d{4} \\d{4}')\n",
    "\n",
    "# matching object\n",
    "mo = aadharRegex.search(aadharNum)\n",
    "\n",
    "print('search found.', mo.group())"
   ]
  },
  {
   "cell_type": "markdown",
   "metadata": {},
   "source": [
    "## more pattern matching with regex"
   ]
  },
  {
   "cell_type": "markdown",
   "metadata": {},
   "source": [
    "### grouping with parantheses\n"
   ]
  },
  {
   "cell_type": "code",
   "execution_count": 4,
   "metadata": {},
   "outputs": [
    {
     "name": "stdout",
     "output_type": "stream",
     "text": [
      "415\n",
      "555-5555\n",
      "415-555-5555\n",
      "415-555-5555\n",
      "('415', '555-5555')\n",
      "415\n",
      "555-5555\n"
     ]
    }
   ],
   "source": [
    "phoneNumRegex = re.compile(r'(\\d\\d\\d)-(\\d\\d\\d-\\d\\d\\d\\d)')\n",
    "mo = phoneNumRegex.search('my number is 415-555-5555')\n",
    "\n",
    "print(mo.group(1))\n",
    "print(mo.group(2))\n",
    "print(mo.group(0))\n",
    "print(mo.group())\n",
    "print(mo.groups())\n",
    "\n",
    "areaCode, mainNumber = mo.groups()\n",
    "print(areaCode)\n",
    "print(mainNumber)"
   ]
  },
  {
   "cell_type": "code",
   "execution_count": 5,
   "metadata": {},
   "outputs": [
    {
     "name": "stdout",
     "output_type": "stream",
     "text": [
      "(415)\n",
      "555-4442\n"
     ]
    }
   ],
   "source": [
    "phoneNumRegex = re.compile(r'(\\(\\d\\d\\d\\)) (\\d\\d\\d-\\d\\d\\d\\d)')\n",
    "mo = phoneNumRegex.search('my phone number is (415) 555-4442.')\n",
    "\n",
    "print(mo.group(1))\n",
    "print(mo.group(2))"
   ]
  },
  {
   "cell_type": "markdown",
   "metadata": {},
   "source": [
    "### matching multiple groups with pipes\n",
    "\n",
    "    - | -> pipe"
   ]
  },
  {
   "cell_type": "code",
   "execution_count": 9,
   "metadata": {},
   "outputs": [
    {
     "name": "stdout",
     "output_type": "stream",
     "text": [
      "Batman\n",
      "Tina Fey\n"
     ]
    }
   ],
   "source": [
    "heroRegex = re.compile(r'Batman|Tina Fey')\n",
    "\n",
    "mo1 = heroRegex.search('Batman and Tina Fey')\n",
    "print(mo1.group())\n",
    "\n",
    "mo2 = heroRegex.search('Tina Fey and Batman')\n",
    "print(mo2.group())"
   ]
  },
  {
   "cell_type": "code",
   "execution_count": 17,
   "metadata": {},
   "outputs": [
    {
     "name": "stdout",
     "output_type": "stream",
     "text": [
      "Batmobile\n",
      "mobile\n"
     ]
    }
   ],
   "source": [
    "batRegex = re.compile(r'Bat(man|mobile|copter|bat)')\n",
    "\n",
    "mo = batRegex.search('Batmobile and Batman')\n",
    "\n",
    "print(mo.group())\n",
    "print(mo.group(1))"
   ]
  },
  {
   "cell_type": "markdown",
   "metadata": {},
   "source": [
    "### optional matching with question marks\n",
    "        - ? -> optional"
   ]
  },
  {
   "cell_type": "code",
   "execution_count": 19,
   "metadata": {},
   "outputs": [
    {
     "name": "stdout",
     "output_type": "stream",
     "text": [
      "Batman\n",
      "Batwoman\n"
     ]
    }
   ],
   "source": [
    "batRegex = re.compile(r'Bat(wo)?man')\n",
    "\n",
    "mo1 = batRegex.search('The adventure of Batman')\n",
    "\n",
    "print(mo1.group())\n",
    "\n",
    "mo2 = batRegex.search('The adventure of Batwoman')\n",
    "print(mo2.group())"
   ]
  },
  {
   "cell_type": "code",
   "execution_count": 31,
   "metadata": {},
   "outputs": [
    {
     "name": "stdout",
     "output_type": "stream",
     "text": [
      "111-555-3333\n",
      "444-2222\n"
     ]
    }
   ],
   "source": [
    "phoneNumRegex = re.compile(r'(\\d{3}-)?\\d{3}-\\d{4}')\n",
    "# phoneNumRegex = re.compile(r'(\\d\\d\\d-)?\\d\\d\\d-\\d\\d\\d\\d')\n",
    "\n",
    "mo1 = phoneNumRegex.search('phone number : 111-555-3333')\n",
    "print(mo1.group())\n",
    "\n",
    "mo2 = phoneNumRegex.search('phone number : 444-2222')\n",
    "print(mo2.group())"
   ]
  },
  {
   "cell_type": "markdown",
   "metadata": {},
   "source": [
    "### matching zero or more with the star *\n",
    "        - * -> zero or more"
   ]
  },
  {
   "cell_type": "code",
   "execution_count": 37,
   "metadata": {},
   "outputs": [
    {
     "name": "stdout",
     "output_type": "stream",
     "text": [
      "Batman\n",
      "Batwoman\n",
      "Batwowowowoman\n"
     ]
    }
   ],
   "source": [
    "batRegex = re.compile(r'Bat(wo)*man')\n",
    "\n",
    "mo1 = batRegex.search('The Adventure of Batman')\n",
    "\n",
    "print(mo1.group())\n",
    "\n",
    "mo2 = batRegex.search('The adventure of Batwoman')\n",
    "print(mo2.group())\n",
    "\n",
    "mo3 = batRegex.search('The adventure of Batwowowowoman')\n",
    "print(mo3.group())"
   ]
  },
  {
   "cell_type": "markdown",
   "metadata": {},
   "source": [
    "### matching one or more with the plus\n",
    "        - + -> one or more"
   ]
  },
  {
   "cell_type": "code",
   "execution_count": null,
   "metadata": {},
   "outputs": [],
   "source": []
  }
 ],
 "metadata": {
  "kernelspec": {
   "display_name": "Python 3",
   "language": "python",
   "name": "python3"
  },
  "language_info": {
   "codemirror_mode": {
    "name": "ipython",
    "version": 3
   },
   "file_extension": ".py",
   "mimetype": "text/x-python",
   "name": "python",
   "nbconvert_exporter": "python",
   "pygments_lexer": "ipython3",
   "version": "3.7.6"
  }
 },
 "nbformat": 4,
 "nbformat_minor": 4
}
