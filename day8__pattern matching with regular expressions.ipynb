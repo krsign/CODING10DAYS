{
 "cells": [
  {
   "cell_type": "markdown",
   "metadata": {},
   "source": [
    "### finding patterns of text without regual expressions"
   ]
  },
  {
   "cell_type": "code",
   "execution_count": 11,
   "metadata": {},
   "outputs": [],
   "source": [
    "# phone number in a string\n",
    "# xxx-xxx-xxxx valid number\n",
    "\n",
    "def isPhoneNumber(text):\n",
    "    if len(text) !=12:\n",
    "        return False\n",
    "    \n",
    "    for i in range(0,3):\n",
    "        if not text[i].isdecimal():\n",
    "            return False\n",
    "        \n",
    "    if text[3] != '-':\n",
    "        return False\n",
    "    \n",
    "    for i in range(4,7):\n",
    "        if not text[i].isdecimal():\n",
    "            return False\n",
    "    \n",
    "    if text[7] != '-':\n",
    "        return False\n",
    "    \n",
    "    for i in range(8,12):\n",
    "        if not text[i].isdecimal():\n",
    "            return False\n",
    "        \n",
    "    return True"
   ]
  },
  {
   "cell_type": "code",
   "execution_count": 12,
   "metadata": {},
   "outputs": [
    {
     "name": "stdout",
     "output_type": "stream",
     "text": [
      "415-555-4242 is a phone number?\n",
      "True\n",
      "\n",
      "\n",
      "454-333-333 is a phone number?\n",
      "False\n"
     ]
    }
   ],
   "source": [
    "print('415-555-4242 is a phone number?') \n",
    "print(isPhoneNumber('415-555-4242'))\n",
    "print('\\n')\n",
    "print('454-333-333 is a phone number?') \n",
    "print(isPhoneNumber('454-333-333'))"
   ]
  },
  {
   "cell_type": "code",
   "execution_count": 21,
   "metadata": {
    "scrolled": false
   },
   "outputs": [
    {
     "name": "stdout",
     "output_type": "stream",
     "text": [
      "Mob number found: 415-555-4242\n",
      "Mob number found: 415-444-2222\n",
      "All Ok!\n"
     ]
    }
   ],
   "source": [
    "# what if we had large text\n",
    "message = 'Call me at 415-555-4242 tommoron. 415-444-2222 is my office'\n",
    "\n",
    "for i in range(len(message)):\n",
    "#     print(i, message[i])\n",
    "    number = message[i:i+12]\n",
    "#     print(number)\n",
    "    \n",
    "    if isPhoneNumber(number):\n",
    "        print('Mob number found: ' + number)\n",
    "print('All Ok!')"
   ]
  },
  {
   "cell_type": "markdown",
   "metadata": {},
   "source": [
    "## finding patterns of text with regualar expressions"
   ]
  },
  {
   "cell_type": "code",
   "execution_count": null,
   "metadata": {},
   "outputs": [],
   "source": [
    "RegEx : \n",
    "    \\d  : digit chars(1,2,3,4,5,6,7,8,9,0)\n",
    "    {n} : \\d{3}-\\d{3}-\\d{4}"
   ]
  },
  {
   "cell_type": "markdown",
   "metadata": {},
   "source": [
    "#### creating regex objects"
   ]
  },
  {
   "cell_type": "code",
   "execution_count": 22,
   "metadata": {},
   "outputs": [],
   "source": [
    "import re"
   ]
  },
  {
   "cell_type": "code",
   "execution_count": 26,
   "metadata": {},
   "outputs": [
    {
     "name": "stdout",
     "output_type": "stream",
     "text": [
      "phone number found: 415-234-4567\n"
     ]
    }
   ],
   "source": [
    "phoneNumRegex = re.compile(r'\\d\\d\\d-\\d\\d\\d-\\d\\d\\d\\d')\n",
    "\n",
    "# matching regex objects\n",
    "mo = phoneNumRegex.search('My number is 415-234-4567.')\n",
    "\n",
    "print('phone number found: '+ mo.group())"
   ]
  },
  {
   "cell_type": "code",
   "execution_count": null,
   "metadata": {},
   "outputs": [],
   "source": []
  }
 ],
 "metadata": {
  "kernelspec": {
   "display_name": "Python 3",
   "language": "python",
   "name": "python3"
  },
  "language_info": {
   "codemirror_mode": {
    "name": "ipython",
    "version": 3
   },
   "file_extension": ".py",
   "mimetype": "text/x-python",
   "name": "python",
   "nbconvert_exporter": "python",
   "pygments_lexer": "ipython3",
   "version": "3.7.6"
  }
 },
 "nbformat": 4,
 "nbformat_minor": 4
}
