{
 "cells": [
  {
   "cell_type": "markdown",
   "metadata": {},
   "source": [
    "### finding patterns of text without regual expressions"
   ]
  },
  {
   "cell_type": "code",
   "execution_count": 9,
   "metadata": {},
   "outputs": [],
   "source": [
    "# phone number in a string\n",
    "# xxx-xxx-xxxx valid number\n",
    "\n",
    "def isPhoneNumber(text):\n",
    "    if len(text) !=12:\n",
    "        return False\n",
    "    \n",
    "    for i in range(0,3):\n",
    "        if not text[i].isdecimal():\n",
    "            return False\n",
    "        \n",
    "    if text[3] != '-':\n",
    "        return False\n",
    "    \n",
    "    for i in range(4,7):\n",
    "        if not text[i].isdecimal():\n",
    "            return False\n",
    "    \n",
    "    if text[7] != '-':\n",
    "        return False\n",
    "    \n",
    "    for i in range(8,12):\n",
    "        if not text[i].isdecimal():\n",
    "            return False\n",
    "        \n",
    "    return True"
   ]
  },
  {
   "cell_type": "code",
   "execution_count": 10,
   "metadata": {},
   "outputs": [
    {
     "name": "stdout",
     "output_type": "stream",
     "text": [
      "415-555-4242 is a phone number?\n",
      "True\n",
      "\n",
      "\n",
      "454-333-333 is a phone number?\n",
      "False\n"
     ]
    }
   ],
   "source": [
    "print('415-555-4242 is a phone number?') \n",
    "print(isPhoneNumber('415-555-4242'))\n",
    "print('\\n')\n",
    "print('454-333-333 is a phone number?') \n",
    "print(isPhoneNumber('454-333-333'))"
   ]
  },
  {
   "cell_type": "code",
   "execution_count": 11,
   "metadata": {
    "scrolled": false
   },
   "outputs": [
    {
     "name": "stdout",
     "output_type": "stream",
     "text": [
      "Mob number found: 415-555-4242\n",
      "Mob number found: 415-444-2222\n",
      "All Ok!\n"
     ]
    }
   ],
   "source": [
    "# what if we had large text\n",
    "message = 'Call me at 415-555-4242 tommoron. 415-444-2222 is my office'\n",
    "\n",
    "for i in range(len(message)):\n",
    "#     print(i, message[i])\n",
    "    number = message[i:i+12]\n",
    "#     print(number)\n",
    "    \n",
    "    if isPhoneNumber(number):\n",
    "        print('Mob number found: ' + number)\n",
    "print('All Ok!')"
   ]
  },
  {
   "cell_type": "markdown",
   "metadata": {},
   "source": [
    "## finding patterns of text with regualar expressions"
   ]
  },
  {
   "cell_type": "code",
   "execution_count": 12,
   "metadata": {},
   "outputs": [
    {
     "ename": "SyntaxError",
     "evalue": "invalid syntax (<ipython-input-12-d137d6a28068>, line 1)",
     "output_type": "error",
     "traceback": [
      "\u001b[0;36m  File \u001b[0;32m\"<ipython-input-12-d137d6a28068>\"\u001b[0;36m, line \u001b[0;32m1\u001b[0m\n\u001b[0;31m    RegEx :\u001b[0m\n\u001b[0m            ^\u001b[0m\n\u001b[0;31mSyntaxError\u001b[0m\u001b[0;31m:\u001b[0m invalid syntax\n"
     ]
    }
   ],
   "source": [
    "RegEx : \n",
    "    \\d  : digit chars(1,2,3,4,5,6,7,8,9,0)\n",
    "    {n} : \\d{3}-\\d{3}-\\d{4}"
   ]
  },
  {
   "cell_type": "markdown",
   "metadata": {},
   "source": [
    "#### creating regex objects"
   ]
  },
  {
   "cell_type": "code",
   "execution_count": 13,
   "metadata": {},
   "outputs": [],
   "source": [
    "import re"
   ]
  },
  {
   "cell_type": "code",
   "execution_count": 14,
   "metadata": {},
   "outputs": [
    {
     "name": "stdout",
     "output_type": "stream",
     "text": [
      "phone number found: 415-234-4567\n"
     ]
    }
   ],
   "source": [
    "phoneNumRegex = re.compile(r'\\d\\d\\d-\\d\\d\\d-\\d\\d\\d\\d')\n",
    "\n",
    "# matching regex objects\n",
    "mo = phoneNumRegex.search('My number is 415-234-4567.')\n",
    "\n",
    "print('phone number found: '+ mo.group())"
   ]
  },
  {
   "cell_type": "code",
   "execution_count": 15,
   "metadata": {},
   "outputs": [
    {
     "name": "stdout",
     "output_type": "stream",
     "text": [
      "search found. 4444 3333 6666\n"
     ]
    }
   ],
   "source": [
    "aadharNum = 'aadhar format look like this -> 4444 3333 6666'\n",
    "\n",
    "# regex objects\n",
    "aadharRegex = re.compile(r'\\d{4} \\d{4} \\d{4}')\n",
    "\n",
    "# matching object\n",
    "mo = aadharRegex.search(aadharNum)\n",
    "\n",
    "print('search found.', mo.group())"
   ]
  },
  {
   "cell_type": "markdown",
   "metadata": {},
   "source": [
    "## more pattern matching with regex"
   ]
  },
  {
   "cell_type": "markdown",
   "metadata": {},
   "source": [
    "### grouping with parantheses\n"
   ]
  },
  {
   "cell_type": "code",
   "execution_count": 16,
   "metadata": {},
   "outputs": [
    {
     "name": "stdout",
     "output_type": "stream",
     "text": [
      "415\n",
      "555-5555\n",
      "415-555-5555\n",
      "415-555-5555\n",
      "('415', '555-5555')\n",
      "415\n",
      "555-5555\n"
     ]
    }
   ],
   "source": [
    "phoneNumRegex = re.compile(r'(\\d\\d\\d)-(\\d\\d\\d-\\d\\d\\d\\d)')\n",
    "mo = phoneNumRegex.search('my number is 415-555-5555')\n",
    "\n",
    "print(mo.group(1))\n",
    "print(mo.group(2))\n",
    "print(mo.group(0))\n",
    "print(mo.group())\n",
    "print(mo.groups())\n",
    "\n",
    "areaCode, mainNumber = mo.groups()\n",
    "print(areaCode)\n",
    "print(mainNumber)"
   ]
  },
  {
   "cell_type": "code",
   "execution_count": 17,
   "metadata": {},
   "outputs": [
    {
     "name": "stdout",
     "output_type": "stream",
     "text": [
      "(415)\n",
      "555-4442\n"
     ]
    }
   ],
   "source": [
    "phoneNumRegex = re.compile(r'(\\(\\d\\d\\d\\)) (\\d\\d\\d-\\d\\d\\d\\d)')\n",
    "mo = phoneNumRegex.search('my phone number is (415) 555-4442.')\n",
    "\n",
    "print(mo.group(1))\n",
    "print(mo.group(2))"
   ]
  },
  {
   "cell_type": "markdown",
   "metadata": {},
   "source": [
    "### matching multiple groups with pipes\n",
    "\n",
    "    - | -> pipe"
   ]
  },
  {
   "cell_type": "code",
   "execution_count": 18,
   "metadata": {},
   "outputs": [
    {
     "name": "stdout",
     "output_type": "stream",
     "text": [
      "Batman\n",
      "Tina Fey\n"
     ]
    }
   ],
   "source": [
    "heroRegex = re.compile(r'Batman|Tina Fey')\n",
    "\n",
    "mo1 = heroRegex.search('Batman and Tina Fey')\n",
    "print(mo1.group())\n",
    "\n",
    "mo2 = heroRegex.search('Tina Fey and Batman')\n",
    "print(mo2.group())"
   ]
  },
  {
   "cell_type": "code",
   "execution_count": 19,
   "metadata": {},
   "outputs": [
    {
     "name": "stdout",
     "output_type": "stream",
     "text": [
      "Batmobile\n",
      "mobile\n"
     ]
    }
   ],
   "source": [
    "batRegex = re.compile(r'Bat(man|mobile|copter|bat)')\n",
    "\n",
    "mo = batRegex.search('Batmobile and Batman')\n",
    "\n",
    "print(mo.group())\n",
    "print(mo.group(1))"
   ]
  },
  {
   "cell_type": "markdown",
   "metadata": {},
   "source": [
    "### optional matching with question marks\n",
    "        - ? -> optional"
   ]
  },
  {
   "cell_type": "code",
   "execution_count": 20,
   "metadata": {},
   "outputs": [
    {
     "name": "stdout",
     "output_type": "stream",
     "text": [
      "Batman\n",
      "Batwoman\n"
     ]
    }
   ],
   "source": [
    "batRegex = re.compile(r'Bat(wo)?man')\n",
    "\n",
    "mo1 = batRegex.search('The adventure of Batman')\n",
    "\n",
    "print(mo1.group())\n",
    "\n",
    "mo2 = batRegex.search('The adventure of Batwoman')\n",
    "print(mo2.group())"
   ]
  },
  {
   "cell_type": "code",
   "execution_count": 21,
   "metadata": {},
   "outputs": [
    {
     "name": "stdout",
     "output_type": "stream",
     "text": [
      "111-555-3333\n",
      "444-2222\n"
     ]
    }
   ],
   "source": [
    "phoneNumRegex = re.compile(r'(\\d{3}-)?\\d{3}-\\d{4}')\n",
    "# phoneNumRegex = re.compile(r'(\\d\\d\\d-)?\\d\\d\\d-\\d\\d\\d\\d')\n",
    "\n",
    "mo1 = phoneNumRegex.search('phone number : 111-555-3333')\n",
    "print(mo1.group())\n",
    "\n",
    "mo2 = phoneNumRegex.search('phone number : 444-2222')\n",
    "print(mo2.group())"
   ]
  },
  {
   "cell_type": "markdown",
   "metadata": {},
   "source": [
    "### matching zero or more with the star *\n",
    "        - * -> zero or more"
   ]
  },
  {
   "cell_type": "code",
   "execution_count": 22,
   "metadata": {},
   "outputs": [
    {
     "name": "stdout",
     "output_type": "stream",
     "text": [
      "Batman\n",
      "Batwoman\n",
      "Batwowowowoman\n"
     ]
    }
   ],
   "source": [
    "batRegex = re.compile(r'Bat(wo)*man')\n",
    "\n",
    "mo1 = batRegex.search('The Adventure of Batman')\n",
    "\n",
    "print(mo1.group())\n",
    "\n",
    "mo2 = batRegex.search('The adventure of Batwoman')\n",
    "print(mo2.group())\n",
    "\n",
    "mo3 = batRegex.search('The adventure of Batwowowowoman')\n",
    "print(mo3.group())"
   ]
  },
  {
   "cell_type": "markdown",
   "metadata": {},
   "source": [
    "### matching one or more with the plus\n",
    "        - + -> one or more"
   ]
  },
  {
   "cell_type": "code",
   "execution_count": 23,
   "metadata": {},
   "outputs": [
    {
     "name": "stdout",
     "output_type": "stream",
     "text": [
      "Batwoman\n",
      "Batwowowowoman\n",
      "True\n"
     ]
    }
   ],
   "source": [
    "batRegex = re.compile(r'Bat(wo)+man')\n",
    "\n",
    "mo1 = batRegex.search('the adventure of Batwoman')\n",
    "print(mo1.group())\n",
    "\n",
    "mo2 = batRegex.search('the adventure of Batwowowowoman')\n",
    "print(mo2.group())\n",
    "\n",
    "# require atleat one 'wo'\n",
    "mo3 = batRegex.search('the adventure of Batman')\n",
    "\n",
    "print(mo3 == None)"
   ]
  },
  {
   "cell_type": "code",
   "execution_count": 24,
   "metadata": {},
   "outputs": [
    {
     "name": "stdout",
     "output_type": "stream",
     "text": [
      "Batwo+man\n"
     ]
    }
   ],
   "source": [
    "batRegex = re.compile(r'Bat(wo)\\+man')\n",
    "\n",
    "mo4 = batRegex.search('Batwo+man string')\n",
    "print(mo4.group())"
   ]
  },
  {
   "cell_type": "markdown",
   "metadata": {},
   "source": [
    "### Matching Specific Repetitions with Curly Brackets\n",
    "        - (Ha){3}\n",
    "        - (Ha){3,5}\n",
    "        - (Ha){,5}"
   ]
  },
  {
   "cell_type": "code",
   "execution_count": 32,
   "metadata": {},
   "outputs": [
    {
     "name": "stdout",
     "output_type": "stream",
     "text": [
      "HaHaHa\n",
      "True\n"
     ]
    }
   ],
   "source": [
    "haRegex = re.compile(r'(Ha){3}')\n",
    "\n",
    "mo1 = haRegex.search('HaHaHa')\n",
    "\n",
    "print(mo1.group())\n",
    "\n",
    "mo2 = haRegex.search('Ha')\n",
    "\n",
    "print(mo2 == None)"
   ]
  },
  {
   "cell_type": "code",
   "execution_count": 38,
   "metadata": {},
   "outputs": [
    {
     "name": "stdout",
     "output_type": "stream",
     "text": [
      "HaHaHa\n",
      "HaHaHaHa\n",
      "HaHaHaHaHa\n"
     ]
    }
   ],
   "source": [
    "haRegex = re.compile(r'(Ha){3,5}')\n",
    "\n",
    "mo1 = haRegex.search('HaHaHa')\n",
    "print(mo1.group())\n",
    "\n",
    "mo2 = haRegex.search('HaHaHaHa')\n",
    "print(mo2.group())\n",
    "\n",
    "mo3 = haRegex.search('HaHaHaHaHa')\n",
    "print(mo3.group())"
   ]
  },
  {
   "cell_type": "code",
   "execution_count": 43,
   "metadata": {},
   "outputs": [
    {
     "name": "stdout",
     "output_type": "stream",
     "text": [
      "HaHaHa\n",
      "HaHaHaHa\n",
      "HaHaHaHaHaHaHa\n"
     ]
    }
   ],
   "source": [
    "haRegex = re.compile(r'(Ha){3,}')\n",
    "\n",
    "mo1 = haRegex.search('HaHaHa')\n",
    "print(mo1.group())\n",
    "\n",
    "mo2 = haRegex.search('HaHaHaHa')\n",
    "print(mo2.group())\n",
    "\n",
    "mo3 = haRegex.search('HaHaHaHaHaHaHa')\n",
    "print(mo3.group())"
   ]
  },
  {
   "cell_type": "code",
   "execution_count": 48,
   "metadata": {},
   "outputs": [
    {
     "name": "stdout",
     "output_type": "stream",
     "text": [
      "\n",
      "HaHaHa\n",
      "HaHaHaHaHa\n"
     ]
    }
   ],
   "source": [
    "haRegex = re.compile(r'(Ha){,5}')\n",
    "\n",
    "mo1 = haRegex.search('')\n",
    "print(mo1.group())\n",
    "\n",
    "mo2 = haRegex.search('HaHaHa')\n",
    "print(mo2.group())\n",
    "\n",
    "mo3 = haRegex.search('HaHaHaHaHaHa')\n",
    "print(mo3.group())"
   ]
  },
  {
   "cell_type": "markdown",
   "metadata": {},
   "source": [
    "### greedy and nongreedy matching"
   ]
  },
  {
   "cell_type": "code",
   "execution_count": 52,
   "metadata": {},
   "outputs": [
    {
     "name": "stdout",
     "output_type": "stream",
     "text": [
      "HaHaHaHaHa\n",
      "HaHaHa\n"
     ]
    }
   ],
   "source": [
    "greedyRegex = re.compile(r'(Ha){3,5}')\n",
    "\n",
    "mo1 = greedyRegex.search('HaHaHaHaHa')\n",
    "print(mo1.group())\n",
    "\n",
    "\n",
    "\n",
    "nongreedyRegex = re.compile(r'(Ha){3,5}?')\n",
    "mo2 = nongreedyRegex.search('HaHaHaHaHa')\n",
    "print(mo2.group())"
   ]
  },
  {
   "cell_type": "markdown",
   "metadata": {},
   "source": [
    "### findall() method\n",
    "        - findall() method will return every matched in search string\n",
    "        - findall() will not return match object but list of string\n",
    "        - has not group in regex\n",
    "        - if there are groups it will return in lists of tuples"
   ]
  },
  {
   "cell_type": "code",
   "execution_count": 67,
   "metadata": {},
   "outputs": [
    {
     "name": "stdout",
     "output_type": "stream",
     "text": [
      "415-234-3321\n",
      "234-3321\n",
      "['415-234-3321', '343-432-4433']\n"
     ]
    }
   ],
   "source": [
    "# search\n",
    "\n",
    "phoneNumRegex = re.compile(r'\\d{3}-\\d{3}-\\d{4}')\n",
    "mo1 = phoneNumRegex.search('work:415-234-3321,home:343-432-4433')\n",
    "print(mo1.group())\n",
    "\n",
    "\n",
    "phoneNumRegex1 = re.compile(r'(\\d{3}-)?\\d{3}-\\d{4}')\n",
    "mo2 = phoneNumRegex1.search('work:234-3321,home:343-432-4433')\n",
    "print(mo2.group())\n",
    "\n",
    "#-----------------------------------------------------------------\n",
    "# findall\n",
    "\n",
    "phoneNumRegex = re.compile(r'\\d{3}-\\d{3}-\\d{4}')\n",
    "print(phoneNumRegex.findall('work:415-234-3321,home:343-432-4433'))"
   ]
  },
  {
   "cell_type": "code",
   "execution_count": 65,
   "metadata": {},
   "outputs": [
    {
     "name": "stdout",
     "output_type": "stream",
     "text": [
      "[('415', '234', '3321'), ('343', '432', '4433')]\n"
     ]
    }
   ],
   "source": [
    "phoneNumRegex = re.compile(r'(\\d{3})-(\\d{3})-(\\d{4})')\n",
    "print(phoneNumRegex.findall('work:415-234-3321,home:343-432-4433'))"
   ]
  },
  {
   "cell_type": "markdown",
   "metadata": {},
   "source": [
    "### character classes\n",
    "        - \\d - any numberic digit from 0-9\n",
    "        - \\D - any char that is not a numberic from 0-9\n",
    "        - \\w - any letter, numeric digit, or _char (think of matching \"word\" chars.\n",
    "        - \\W - any char that is not a letter, numeric digit, or _char\n",
    "        - \\s - any space , tah or new line\n",
    "        - \\S - any char that is not a space, tab or newline"
   ]
  },
  {
   "cell_type": "code",
   "execution_count": 1,
   "metadata": {},
   "outputs": [],
   "source": [
    "import re"
   ]
  },
  {
   "cell_type": "code",
   "execution_count": 2,
   "metadata": {},
   "outputs": [
    {
     "name": "stdout",
     "output_type": "stream",
     "text": [
      "['12 drummer', '10 lords', '9 ladies', '7 swan', '6 geese', '5 rings', '4 birds', '3 hens', '2 doves', '1 partidge']\n"
     ]
    }
   ],
   "source": [
    "xmasRegex = re.compile(r'\\d+\\s\\w+')\n",
    "# '\\d+\\s\\w+' = 0-9 followed by space followed by any letter or char or digit \n",
    "\n",
    "print(xmasRegex.findall('12 drummer, pipers, 10 lords, \\\n",
    "9 ladies, maids, 7 swan, 6 geese, 5 rings, 4 birds, \\\n",
    "3 hens, 2 doves, 1 partidge'))"
   ]
  },
  {
   "cell_type": "markdown",
   "metadata": {},
   "source": [
    "### making your own character classes\n",
    "        - negative character - ^"
   ]
  },
  {
   "cell_type": "code",
   "execution_count": 3,
   "metadata": {},
   "outputs": [
    {
     "name": "stdout",
     "output_type": "stream",
     "text": [
      "['o', 'o', 'o', 'e', 'a', 'a', 'o', 'o', 'o', 'u', 'O', 'U']\n"
     ]
    }
   ],
   "source": [
    "vowelRegex = re.compile(r'[aeiouAEIOU]')\n",
    "print(vowelRegex.findall('RoboCop eats baby food. Would YOU?'))"
   ]
  },
  {
   "cell_type": "code",
   "execution_count": 4,
   "metadata": {},
   "outputs": [
    {
     "name": "stdout",
     "output_type": "stream",
     "text": [
      "['H', 'e', 'l', 'l', 'o', '2']\n"
     ]
    }
   ],
   "source": [
    "match = re.compile(r'[a-zA-Z0-9]')\n",
    "print(match.findall('Hello2'))"
   ]
  },
  {
   "cell_type": "code",
   "execution_count": 19,
   "metadata": {},
   "outputs": [
    {
     "name": "stdout",
     "output_type": "stream",
     "text": [
      "['R', 'b', 'C', 'p', ' ', 't', 's', ' ', 'b', 'b', 'y', ' ', 'f', 'd', '.', ' ', 'W', 'L', 'D', ' ', 'Y', '?']\n"
     ]
    }
   ],
   "source": [
    "consonantRegex = re.compile(r'[^aeiouAEIOU]')\n",
    "print(consonantRegex.findall('RoboCop eats baby food. WOULD YOU?'))"
   ]
  },
  {
   "cell_type": "markdown",
   "metadata": {},
   "source": [
    "## the ^ and & sign\n",
    "    - ^ at start of a regex to indicate a match occur at beginning of the searched text.\n",
    "    \n",
    "    - $ at end of a regex to indicate the string must end with his regex pattern."
   ]
  },
  {
   "cell_type": "code",
   "execution_count": 5,
   "metadata": {},
   "outputs": [
    {
     "name": "stdout",
     "output_type": "stream",
     "text": [
      "<re.Match object; span=(0, 5), match='Hello'>\n",
      "True\n"
     ]
    }
   ],
   "source": [
    "beginsWithHello = re.compile(r'^Hello')\n",
    "print(beginsWithHello.search('Hello World'))\n",
    "\n",
    "\n",
    "print(beginsWithHello.search('He said Hello.') == None)\n",
    "\n"
   ]
  },
  {
   "cell_type": "code",
   "execution_count": 6,
   "metadata": {},
   "outputs": [
    {
     "name": "stdout",
     "output_type": "stream",
     "text": [
      "<re.Match object; span=(15, 16), match='4'>\n",
      "None\n"
     ]
    }
   ],
   "source": [
    "endsWithNumber = re.compile(r'\\d$')\n",
    "print(endsWithNumber.search('Your Room is 594'))\n",
    "print(endsWithNumber.search('You are twenty-one'))"
   ]
  },
  {
   "cell_type": "code",
   "execution_count": 12,
   "metadata": {},
   "outputs": [
    {
     "name": "stdout",
     "output_type": "stream",
     "text": [
      "<re.Match object; span=(0, 1), match='2'>\n",
      "<re.Match object; span=(0, 6), match='233333'>\n"
     ]
    }
   ],
   "source": [
    "wholeStringIsNum = re.compile(r'^\\d$')\n",
    "# '^\\d$' : means starts with a digit and ends\n",
    "print(wholeStringIsNum.search('2'))\n",
    "\n",
    "wholeStringIsNum = re.compile(r'^\\d+$')\n",
    "# '^\\d+$' : means starts with one or more digit and ends with digits\n",
    "print(wholeStringIsNum.search('233333'))"
   ]
  },
  {
   "cell_type": "code",
   "execution_count": 15,
   "metadata": {},
   "outputs": [
    {
     "name": "stdout",
     "output_type": "stream",
     "text": [
      "None\n",
      "None\n"
     ]
    }
   ],
   "source": [
    "print(wholeStringIsNum.search('1234xhdhd4646'))\n",
    "\n",
    "print(wholeStringIsNum.search('123 4444'))"
   ]
  },
  {
   "cell_type": "markdown",
   "metadata": {},
   "source": [
    "### The wildcard character\n",
    "        - (.) will match any character except newline\n",
    "        - (.) will match only one character"
   ]
  },
  {
   "cell_type": "code",
   "execution_count": 3,
   "metadata": {},
   "outputs": [],
   "source": [
    "import re"
   ]
  },
  {
   "cell_type": "code",
   "execution_count": 4,
   "metadata": {},
   "outputs": [
    {
     "name": "stdout",
     "output_type": "stream",
     "text": [
      "['cat', 'hat', 'sat', 'lat', 'mat']\n"
     ]
    }
   ],
   "source": [
    "atRegex = re.compile(r'.at')\n",
    "print(atRegex.findall('the cat in the hat sat on the flat mate.'))"
   ]
  },
  {
   "cell_type": "markdown",
   "metadata": {},
   "source": [
    "### matching everything with .*\n",
    "\n",
    "        - anything or everything will match"
   ]
  },
  {
   "cell_type": "code",
   "execution_count": 27,
   "metadata": {},
   "outputs": [
    {
     "name": "stdout",
     "output_type": "stream",
     "text": [
      "[('K r i s h na', 'K um ar')]\n"
     ]
    }
   ],
   "source": [
    "nameRegex = re.compile(r'FirstName: (.*) LastName: (.*)')\n",
    "mo = nameRegex.findall('FirstName: K r i s h na LastName: K um ar')\n",
    "\n",
    "print(mo)\n",
    "\n",
    "# print(mo.group(1))\n",
    "# print(mo.group(2))"
   ]
  },
  {
   "cell_type": "code",
   "execution_count": 29,
   "metadata": {},
   "outputs": [
    {
     "name": "stdout",
     "output_type": "stream",
     "text": [
      "<To serve man>\n",
      "<To serve man> for dinner.>\n"
     ]
    }
   ],
   "source": [
    "nongreedyRegex = re.compile(r'<.*?>')\n",
    "mo = nongreedyRegex.search('<To serve man> for dinner.>')\n",
    "print(mo.group())\n",
    "\n",
    "greedyRegex = re.compile(r'<.*>')\n",
    "mo = greedyRegex.search('<To serve man> for dinner.>')\n",
    "print(mo.group())"
   ]
  },
  {
   "cell_type": "markdown",
   "metadata": {},
   "source": [
    "### Matching Newline with the dot character\n",
    "            - re.DOTALL has second argument to re.compile will match newline"
   ]
  },
  {
   "cell_type": "code",
   "execution_count": 30,
   "metadata": {},
   "outputs": [
    {
     "name": "stdout",
     "output_type": "stream",
     "text": [
      "first line. \n"
     ]
    }
   ],
   "source": [
    "noNewLineRegex = re.compile(r'.*')\n",
    "mo = noNewLineRegex.search('first line. \\nSecond line. \\nThird Line.')\n",
    "print(mo.group())"
   ]
  },
  {
   "cell_type": "code",
   "execution_count": 31,
   "metadata": {},
   "outputs": [
    {
     "name": "stdout",
     "output_type": "stream",
     "text": [
      "first line. \n",
      "Second line. \n",
      "Third line.\n"
     ]
    }
   ],
   "source": [
    "newLineRegex = re.compile(r'.*', re.DOTALL)\n",
    "mo = newLineRegex.search('first line. \\nSecond line. \\nThird line.')\n",
    "print(mo.group())"
   ]
  },
  {
   "cell_type": "code",
   "execution_count": null,
   "metadata": {},
   "outputs": [],
   "source": []
  }
 ],
 "metadata": {
  "kernelspec": {
   "display_name": "Python 3",
   "language": "python",
   "name": "python3"
  },
  "language_info": {
   "codemirror_mode": {
    "name": "ipython",
    "version": 3
   },
   "file_extension": ".py",
   "mimetype": "text/x-python",
   "name": "python",
   "nbconvert_exporter": "python",
   "pygments_lexer": "ipython3",
   "version": "3.7.6"
  }
 },
 "nbformat": 4,
 "nbformat_minor": 4
}
