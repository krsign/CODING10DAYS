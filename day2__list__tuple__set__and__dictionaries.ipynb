{
 "cells": [
  {
   "cell_type": "markdown",
   "metadata": {},
   "source": [
    "# python collections\n",
    "        - list \n",
    "        - tuple \n",
    "        - set\n",
    "        - dictionaries"
   ]
  },
  {
   "cell_type": "markdown",
   "metadata": {},
   "source": [
    "# List\n",
    "    - ordered\n",
    "    - mutable"
   ]
  },
  {
   "cell_type": "code",
   "execution_count": 2,
   "metadata": {},
   "outputs": [
    {
     "name": "stdout",
     "output_type": "stream",
     "text": [
      "<class 'list'>\n"
     ]
    }
   ],
   "source": [
    "# basic list\n",
    "\n",
    "l = [8,3,4,5,6,7]\n",
    "print(type(l))"
   ]
  },
  {
   "cell_type": "code",
   "execution_count": 4,
   "metadata": {},
   "outputs": [
    {
     "name": "stdout",
     "output_type": "stream",
     "text": [
      "2\n",
      "3\n",
      "4\n",
      "5\n"
     ]
    }
   ],
   "source": [
    "# accessing items\n",
    "\n",
    "l = [2,3,4,5,6,7,8]\n",
    "print(l[0])\n",
    "print(l[1])\n",
    "print(l[2])\n",
    "print(l[3])"
   ]
  },
  {
   "cell_type": "code",
   "execution_count": 7,
   "metadata": {},
   "outputs": [
    {
     "name": "stdout",
     "output_type": "stream",
     "text": [
      "[8, 7, 6, 5, 4, 3]\n"
     ]
    }
   ],
   "source": [
    "# negative indexing\n",
    "\n",
    "l = [2,3,4,5,6,7,8]\n",
    "print(l[-1:0:-1])"
   ]
  },
  {
   "cell_type": "code",
   "execution_count": 8,
   "metadata": {},
   "outputs": [
    {
     "name": "stdout",
     "output_type": "stream",
     "text": [
      "[2, 3, 4, 5, 6, 7, 10]\n"
     ]
    }
   ],
   "source": [
    "# change the value\n",
    "\n",
    "l = [2,3,4,5,6,7,8]\n",
    "l[6] = 10\n",
    "print(l)"
   ]
  },
  {
   "cell_type": "code",
   "execution_count": 9,
   "metadata": {},
   "outputs": [
    {
     "name": "stdout",
     "output_type": "stream",
     "text": [
      "2\n",
      "3\n",
      "4\n",
      "5\n",
      "6\n",
      "7\n",
      "8\n"
     ]
    }
   ],
   "source": [
    "# looping \n",
    "\n",
    "l = [2,3,4,5,6,7,8]\n",
    "for x in l:\n",
    "    print(x)"
   ]
  },
  {
   "cell_type": "code",
   "execution_count": 12,
   "metadata": {},
   "outputs": [
    {
     "name": "stdout",
     "output_type": "stream",
     "text": [
      "True\n"
     ]
    }
   ],
   "source": [
    "# check item exist in list or not?\n",
    "\n",
    "l = [2,3,4,5,6,7,8]\n",
    "\n",
    "if 8 in l:\n",
    "    print(True)\n",
    "else:\n",
    "    print(False)"
   ]
  },
  {
   "cell_type": "code",
   "execution_count": 15,
   "metadata": {},
   "outputs": [
    {
     "name": "stdout",
     "output_type": "stream",
     "text": [
      "[2, 3, 4, 5, 6, 7, 8, 10]\n",
      "[2, 3, 4, 5, 6, 7, 8, 10, 12]\n",
      "[2, 3, 4, 5, 6, 7, 8, 10, 12, 14]\n"
     ]
    }
   ],
   "source": [
    "# add item\n",
    "\n",
    "l = [2,3,4,5,6,7,8]\n",
    "\n",
    "l.append(10)\n",
    "print(l)\n",
    "\n",
    "l.append(12)\n",
    "print(l)\n",
    "\n",
    "l.append(14)\n",
    "print(l)"
   ]
  },
  {
   "cell_type": "code",
   "execution_count": 20,
   "metadata": {},
   "outputs": [
    {
     "name": "stdout",
     "output_type": "stream",
     "text": [
      "[2, 3, 4, 5, 6, 7]\n",
      "[2, 4, 5, 6, 7]\n",
      "[4, 5, 6, 7]\n"
     ]
    }
   ],
   "source": [
    "# removing items from list\n",
    "\n",
    "l = [2,3,4,5,6,7,8]\n",
    "\n",
    "l.remove(8)\n",
    "print(l)\n",
    "\n",
    "l.remove(3)\n",
    "print(l)\n",
    "\n",
    "l.remove(2)\n",
    "print(l)"
   ]
  },
  {
   "cell_type": "code",
   "execution_count": 25,
   "metadata": {},
   "outputs": [
    {
     "name": "stdout",
     "output_type": "stream",
     "text": [
      "[2, 3, 4, 5, 6, 7, 8, 10, 12, 14]\n",
      "[2, 3, 4, 5, 6, 7, 8, 10, 12]\n",
      "[2, 3, 4, 5, 6, 7, 8, 10]\n",
      "[2, 3, 4, 5, 6, 7, 8]\n"
     ]
    }
   ],
   "source": [
    "# pop : pop will remove last elements from list\n",
    "\n",
    "l = [2, 3, 4, 5, 6, 7, 8, 10, 12, 14]\n",
    "print(l)\n",
    "\n",
    "l.pop()\n",
    "print(l)\n",
    "\n",
    "l.pop()\n",
    "print(l)\n",
    "\n",
    "l.pop()\n",
    "print(l)"
   ]
  },
  {
   "cell_type": "code",
   "execution_count": 36,
   "metadata": {},
   "outputs": [
    {
     "name": "stdout",
     "output_type": "stream",
     "text": [
      "[2, 3, 4, 5, 6, 7, 8, 10, 12, 14]\n",
      "[2, 3, 4, 5, 6, 7, 8, 10, 12]\n",
      "[2, 3, 4, 5, 6, 7, 8, 10]\n",
      "[2, 3, 4, 5, 6, 7, 10]\n"
     ]
    }
   ],
   "source": [
    "# del will remove specified index element from list\n",
    "\n",
    "l = [2, 3, 4, 5, 6, 7, 8, 10, 12, 14]\n",
    "print(l)\n",
    "\n",
    "del l[-1]\n",
    "print(l)\n",
    "\n",
    "del l[-1]\n",
    "print(l)\n",
    "\n",
    "del l[-2]\n",
    "print(l)"
   ]
  },
  {
   "cell_type": "code",
   "execution_count": 16,
   "metadata": {},
   "outputs": [
    {
     "name": "stdout",
     "output_type": "stream",
     "text": [
      "['__add__', '__class__', '__contains__', '__delattr__', '__delitem__', '__dir__', '__doc__', '__eq__', '__format__', '__ge__', '__getattribute__', '__getitem__', '__gt__', '__hash__', '__iadd__', '__imul__', '__init__', '__init_subclass__', '__iter__', '__le__', '__len__', '__lt__', '__mul__', '__ne__', '__new__', '__reduce__', '__reduce_ex__', '__repr__', '__reversed__', '__rmul__', '__setattr__', '__setitem__', '__sizeof__', '__str__', '__subclasshook__', 'append', 'clear', 'copy', 'count', 'extend', 'index', 'insert', 'pop', 'remove', 'reverse', 'sort']\n"
     ]
    }
   ],
   "source": [
    "print(dir(list))"
   ]
  }
 ],
 "metadata": {
  "kernelspec": {
   "display_name": "Python 3",
   "language": "python",
   "name": "python3"
  },
  "language_info": {
   "codemirror_mode": {
    "name": "ipython",
    "version": 3
   },
   "file_extension": ".py",
   "mimetype": "text/x-python",
   "name": "python",
   "nbconvert_exporter": "python",
   "pygments_lexer": "ipython3",
   "version": "3.7.6"
  }
 },
 "nbformat": 4,
 "nbformat_minor": 4
}
