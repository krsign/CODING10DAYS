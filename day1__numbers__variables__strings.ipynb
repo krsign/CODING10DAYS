{
 "cells": [
  {
   "cell_type": "markdown",
   "metadata": {},
   "source": [
    "# Numbers\n",
    "\n",
    "    - int\n",
    "    - float\n",
    "    - complex"
   ]
  },
  {
   "cell_type": "code",
   "execution_count": 7,
   "metadata": {},
   "outputs": [
    {
     "name": "stdout",
     "output_type": "stream",
     "text": [
      "15\n"
     ]
    }
   ],
   "source": [
    "x = 5\n",
    "y = 10\n",
    "\n",
    "z = x + y\n",
    "print(z)"
   ]
  },
  {
   "cell_type": "code",
   "execution_count": 6,
   "metadata": {},
   "outputs": [
    {
     "name": "stdout",
     "output_type": "stream",
     "text": [
      "3337836.6267923\n"
     ]
    }
   ],
   "source": [
    "x = 500000.6763\n",
    "y = 3837837.30309230\n",
    "\n",
    "z = y - x\n",
    "print(z)"
   ]
  },
  {
   "cell_type": "code",
   "execution_count": 10,
   "metadata": {},
   "outputs": [
    {
     "name": "stdout",
     "output_type": "stream",
     "text": [
      "<class 'complex'>\n"
     ]
    }
   ],
   "source": [
    "x = 5 + 3j\n",
    "\n",
    "print(type(x))"
   ]
  },
  {
   "cell_type": "markdown",
   "metadata": {},
   "source": [
    "## type conversion"
   ]
  },
  {
   "cell_type": "code",
   "execution_count": 14,
   "metadata": {},
   "outputs": [
    {
     "name": "stdout",
     "output_type": "stream",
     "text": [
      "123 : <class 'int'>\n"
     ]
    }
   ],
   "source": [
    "# string to int\n",
    "\n",
    "x = '123'\n",
    "y = int(x)\n",
    "\n",
    "print(y,':',type(y))"
   ]
  },
  {
   "cell_type": "code",
   "execution_count": 15,
   "metadata": {},
   "outputs": [
    {
     "name": "stdout",
     "output_type": "stream",
     "text": [
      "329723 : <class 'int'>\n"
     ]
    }
   ],
   "source": [
    "# float to int\n",
    "\n",
    "x = 329723.239201\n",
    "y = int(x)\n",
    "\n",
    "print(y,':',type(y))"
   ]
  },
  {
   "cell_type": "code",
   "execution_count": 16,
   "metadata": {},
   "outputs": [
    {
     "name": "stdout",
     "output_type": "stream",
     "text": [
      "233.0 : <class 'float'>\n"
     ]
    }
   ],
   "source": [
    "# int to float\n",
    "\n",
    "x = 233\n",
    "y = float(x)\n",
    "\n",
    "print(y,':',type(y))"
   ]
  },
  {
   "cell_type": "code",
   "execution_count": 17,
   "metadata": {},
   "outputs": [
    {
     "name": "stdout",
     "output_type": "stream",
     "text": [
      "(3+0j) <class 'complex'>\n"
     ]
    }
   ],
   "source": [
    "# int to complex\n",
    "x = 3\n",
    "y = complex(x)\n",
    "\n",
    "print(y, type(y))"
   ]
  },
  {
   "cell_type": "markdown",
   "metadata": {},
   "source": [
    "## random number"
   ]
  },
  {
   "cell_type": "code",
   "execution_count": 172,
   "metadata": {},
   "outputs": [],
   "source": [
    "import random"
   ]
  },
  {
   "cell_type": "code",
   "execution_count": 21,
   "metadata": {},
   "outputs": [
    {
     "name": "stdout",
     "output_type": "stream",
     "text": [
      "['BPF', 'LOG4', 'NV_MAGICCONST', 'RECIP_BPF', 'Random', 'SG_MAGICCONST', 'SystemRandom', 'TWOPI', '_BuiltinMethodType', '_MethodType', '_Sequence', '_Set', '__all__', '__builtins__', '__cached__', '__doc__', '__file__', '__loader__', '__name__', '__package__', '__spec__', '_acos', '_bisect', '_ceil', '_cos', '_e', '_exp', '_inst', '_itertools', '_log', '_os', '_pi', '_random', '_sha512', '_sin', '_sqrt', '_test', '_test_generator', '_urandom', '_warn', 'betavariate', 'choice', 'choices', 'expovariate', 'gammavariate', 'gauss', 'getrandbits', 'getstate', 'lognormvariate', 'normalvariate', 'paretovariate', 'randint', 'random', 'randrange', 'sample', 'seed', 'setstate', 'shuffle', 'triangular', 'uniform', 'vonmisesvariate', 'weibullvariate']\n"
     ]
    }
   ],
   "source": [
    "print(dir(random))"
   ]
  },
  {
   "cell_type": "code",
   "execution_count": 169,
   "metadata": {},
   "outputs": [
    {
     "name": "stdout",
     "output_type": "stream",
     "text": [
      "4\n"
     ]
    }
   ],
   "source": [
    "# random number between 1 to 10\n",
    "\n",
    "x = random.randint(1,10)\n",
    "print(x)"
   ]
  },
  {
   "cell_type": "code",
   "execution_count": 188,
   "metadata": {},
   "outputs": [
    {
     "name": "stdout",
     "output_type": "stream",
     "text": [
      "c\n"
     ]
    }
   ],
   "source": [
    "mylist = ['a','b','c','d']\n",
    "\n",
    "print(random.choice(mylist))"
   ]
  },
  {
   "cell_type": "code",
   "execution_count": 198,
   "metadata": {},
   "outputs": [
    {
     "name": "stdout",
     "output_type": "stream",
     "text": [
      "H\n"
     ]
    }
   ],
   "source": [
    "x = 'PYTHON'\n",
    "\n",
    "print(random.choice(x))"
   ]
  },
  {
   "cell_type": "markdown",
   "metadata": {},
   "source": [
    "## password generator\n",
    "    \n",
    "    - 1 capital Letter\n",
    "    - 1 small letter\n",
    "    - 1 special character\n",
    "    - 5 numbers"
   ]
  },
  {
   "cell_type": "code",
   "execution_count": 407,
   "metadata": {},
   "outputs": [
    {
     "name": "stdout",
     "output_type": "stream",
     "text": [
      "Password: Q5029r&0\n"
     ]
    }
   ],
   "source": [
    "lower = str(chr(random.randint(97,122)))\n",
    "upper = str(chr(random.randint(65,90)))\n",
    "\n",
    "char = ['@','#','$','&']\n",
    "special = random.choice(char)\n",
    "\n",
    "number = str(random.randrange(10000,99999))\n",
    "\n",
    "password = upper + lower + special + number\n",
    "\n",
    "mix = ''.join(random.sample(password,8))\n",
    "print('Password:',mix)"
   ]
  },
  {
   "cell_type": "markdown",
   "metadata": {},
   "source": [
    "\n",
    "\n",
    "\n"
   ]
  },
  {
   "cell_type": "markdown",
   "metadata": {},
   "source": [
    "# variable"
   ]
  },
  {
   "cell_type": "code",
   "execution_count": 2,
   "metadata": {},
   "outputs": [
    {
     "name": "stdout",
     "output_type": "stream",
     "text": [
      "45\n",
      "Python\n"
     ]
    }
   ],
   "source": [
    "x = 45\n",
    "print(x)\n",
    "\n",
    "x = 'Python'\n",
    "print(x)"
   ]
  },
  {
   "cell_type": "code",
   "execution_count": null,
   "metadata": {},
   "outputs": [],
   "source": [
    "legal Variables:\n",
    "\n",
    "    value\n",
    "    Value\n",
    "    valuE\n",
    "    vaLuE \n",
    "    etc...\n",
    "\n",
    "illegal Variable:\n",
    "\n",
    "    2value\n",
    "    my value\n",
    "    my-value\n",
    "    $value\n",
    "    etc"
   ]
  },
  {
   "cell_type": "code",
   "execution_count": 6,
   "metadata": {},
   "outputs": [
    {
     "name": "stdout",
     "output_type": "stream",
     "text": [
      "43\n",
      "2 3 4\n"
     ]
    }
   ],
   "source": [
    "# assigning variable\n",
    "x = 43\n",
    "print(x)\n",
    "\n",
    "# assiging value to multiple variable\n",
    "a, b, c = 2, 3, 4\n",
    "print(a, b, c)"
   ]
  },
  {
   "cell_type": "markdown",
   "metadata": {},
   "source": [
    "# string"
   ]
  },
  {
   "cell_type": "code",
   "execution_count": 9,
   "metadata": {},
   "outputs": [
    {
     "name": "stdout",
     "output_type": "stream",
     "text": [
      "python 3.7.6 : <class 'str'>\n"
     ]
    }
   ],
   "source": [
    "s = 'python 3.7.6'\n",
    "print(s,':',type(s))"
   ]
  },
  {
   "cell_type": "code",
   "execution_count": 27,
   "metadata": {},
   "outputs": [
    {
     "name": "stdout",
     "output_type": "stream",
     "text": [
      "this is a\n",
      "multiline \n",
      "string.\n",
      "    \n",
      "can be written\n",
      "in many lines\n",
      "\n"
     ]
    }
   ],
   "source": [
    "# multiline string\n",
    "\n",
    "s = \"\"\"this is a\n",
    "multiline \n",
    "string.\n",
    "    \n",
    "can be written\n",
    "in many lines\n",
    "\"\"\"\n",
    "print(s)"
   ]
  },
  {
   "cell_type": "code",
   "execution_count": 11,
   "metadata": {},
   "outputs": [
    {
     "name": "stdout",
     "output_type": "stream",
     "text": [
      "n\n"
     ]
    }
   ],
   "source": [
    "# string as array\n",
    "\n",
    "s = 'Python'\n",
    "print(s[-1])"
   ]
  },
  {
   "cell_type": "code",
   "execution_count": 21,
   "metadata": {},
   "outputs": [
    {
     "name": "stdout",
     "output_type": "stream",
     "text": [
      "Python\n",
      "nohty\n"
     ]
    }
   ],
   "source": [
    "# slicing \n",
    "\n",
    "s = 'Python'\n",
    "print(s[0:6])\n",
    "\n",
    "# negative slicing\n",
    "print(s[-1:0:-1])"
   ]
  },
  {
   "cell_type": "code",
   "execution_count": 22,
   "metadata": {},
   "outputs": [
    {
     "name": "stdout",
     "output_type": "stream",
     "text": [
      "26\n"
     ]
    }
   ],
   "source": [
    "# len of the string\n",
    "\n",
    "s = 'Easiest language to learn!'\n",
    "print(len(s))"
   ]
  },
  {
   "cell_type": "markdown",
   "metadata": {},
   "source": [
    "## string method"
   ]
  },
  {
   "cell_type": "code",
   "execution_count": 38,
   "metadata": {},
   "outputs": [
    {
     "name": "stdout",
     "output_type": "stream",
     "text": [
      "2\n"
     ]
    }
   ],
   "source": [
    "# count\n",
    "\n",
    "s = 'python version'\n",
    "print(s.count('n'))"
   ]
  },
  {
   "cell_type": "code",
   "execution_count": 37,
   "metadata": {},
   "outputs": [
    {
     "name": "stdout",
     "output_type": "stream",
     "text": [
      "True\n"
     ]
    }
   ],
   "source": [
    "# endswidth\n",
    "\n",
    "s = 'many versions'\n",
    "print(s.endswith('s'))"
   ]
  },
  {
   "cell_type": "code",
   "execution_count": 40,
   "metadata": {},
   "outputs": [
    {
     "name": "stdout",
     "output_type": "stream",
     "text": [
      "5\n"
     ]
    }
   ],
   "source": [
    "# find: will return index value\n",
    "\n",
    "s = 'champions'\n",
    "print(s.find('i'))"
   ]
  },
  {
   "cell_type": "code",
   "execution_count": 44,
   "metadata": {},
   "outputs": [
    {
     "name": "stdout",
     "output_type": "stream",
     "text": [
      "Python 3.7 and Python 3.8 are stable\n"
     ]
    }
   ],
   "source": [
    "# format\n",
    "\n",
    "py1 = 3.7\n",
    "py2 = 3.8\n",
    "print('Python {} and Python {} are stable'.format(py1, py2))"
   ]
  },
  {
   "cell_type": "code",
   "execution_count": 45,
   "metadata": {},
   "outputs": [
    {
     "name": "stdout",
     "output_type": "stream",
     "text": [
      "2\n"
     ]
    }
   ],
   "source": [
    "# index\n",
    "\n",
    "s = 'Python'\n",
    "print(s.index('t'))"
   ]
  },
  {
   "cell_type": "code",
   "execution_count": 57,
   "metadata": {},
   "outputs": [
    {
     "name": "stdout",
     "output_type": "stream",
     "text": [
      "True\n",
      "True\n",
      "False\n",
      "True\n"
     ]
    }
   ],
   "source": [
    "# isalnum : check if string contains either alphabets or numeric value then return True or False\n",
    "\n",
    "s1 = 'Id1'\n",
    "print(s1.isalnum())\n",
    "\n",
    "s2 = 'Id'\n",
    "print(s2.isalnum())\n",
    "\n",
    "s3 = 'Id 2'\n",
    "print(s3.isalnum())\n",
    "\n",
    "s4 = '3445'\n",
    "print(s4.isalnum())"
   ]
  },
  {
   "cell_type": "code",
   "execution_count": 59,
   "metadata": {},
   "outputs": [
    {
     "name": "stdout",
     "output_type": "stream",
     "text": [
      "False\n"
     ]
    }
   ],
   "source": [
    "# isalpha: check if string contains alphabet or not ...then return value\n",
    "\n",
    "s = 'Python3'\n",
    "print(s.isalpha())"
   ]
  },
  {
   "cell_type": "code",
   "execution_count": 64,
   "metadata": {},
   "outputs": [
    {
     "name": "stdout",
     "output_type": "stream",
     "text": [
      "Radio gaga\n"
     ]
    }
   ],
   "source": [
    "# capitalize\n",
    "\n",
    "s = 'radio Gaga'\n",
    "print(s.capitalize())"
   ]
  },
  {
   "cell_type": "code",
   "execution_count": 81,
   "metadata": {},
   "outputs": [
    {
     "name": "stdout",
     "output_type": "stream",
     "text": [
      "*************jupyter\n",
      "jupyter*************\n"
     ]
    }
   ],
   "source": [
    "# rjust\n",
    "\n",
    "s = 'jupyter'\n",
    "# print(s.rjust(20))\n",
    "print(s.rjust(20,'*'))\n",
    "\n",
    "# ljust\n",
    "print(s.ljust(20,'*'))"
   ]
  },
  {
   "cell_type": "code",
   "execution_count": 84,
   "metadata": {},
   "outputs": [
    {
     "name": "stdout",
     "output_type": "stream",
     "text": [
      "Lock\n"
     ]
    }
   ],
   "source": [
    "# replace\n",
    "\n",
    "s1 = 'Rock'\n",
    "s2 = s1.replace('R', 'L')\n",
    "print(s2)"
   ]
  },
  {
   "cell_type": "code",
   "execution_count": 86,
   "metadata": {},
   "outputs": [
    {
     "name": "stdout",
     "output_type": "stream",
     "text": [
      "['this', 'is', 'a', 'split', 'method']\n"
     ]
    }
   ],
   "source": [
    "# split : converts string into list\n",
    "\n",
    "s = 'this is a split method'\n",
    "print(s.split())"
   ]
  },
  {
   "cell_type": "code",
   "execution_count": 88,
   "metadata": {},
   "outputs": [
    {
     "name": "stdout",
     "output_type": "stream",
     "text": [
      "This will change the case\n"
     ]
    }
   ],
   "source": [
    "# swapcase\n",
    "\n",
    "s = 'tHIS WILL CHANGE THE CASE'\n",
    "print(s.swapcase())"
   ]
  },
  {
   "cell_type": "code",
   "execution_count": null,
   "metadata": {},
   "outputs": [],
   "source": []
  },
  {
   "cell_type": "code",
   "execution_count": 41,
   "metadata": {},
   "outputs": [
    {
     "name": "stdout",
     "output_type": "stream",
     "text": [
      "['__add__', '__class__', '__contains__', '__delattr__', '__dir__', '__doc__', '__eq__', '__format__', '__ge__', '__getattribute__', '__getitem__', '__getnewargs__', '__gt__', '__hash__', '__init__', '__init_subclass__', '__iter__', '__le__', '__len__', '__lt__', '__mod__', '__mul__', '__ne__', '__new__', '__reduce__', '__reduce_ex__', '__repr__', '__rmod__', '__rmul__', '__setattr__', '__sizeof__', '__str__', '__subclasshook__', 'capitalize', 'casefold', 'center', 'count', 'encode', 'endswith', 'expandtabs', 'find', 'format', 'format_map', 'index', 'isalnum', 'isalpha', 'isascii', 'isdecimal', 'isdigit', 'isidentifier', 'islower', 'isnumeric', 'isprintable', 'isspace', 'istitle', 'isupper', 'join', 'ljust', 'lower', 'lstrip', 'maketrans', 'partition', 'replace', 'rfind', 'rindex', 'rjust', 'rpartition', 'rsplit', 'rstrip', 'split', 'splitlines', 'startswith', 'strip', 'swapcase', 'title', 'translate', 'upper', 'zfill']\n"
     ]
    }
   ],
   "source": [
    "print(dir(str))"
   ]
  }
 ],
 "metadata": {
  "kernelspec": {
   "display_name": "Python 3",
   "language": "python",
   "name": "python3"
  },
  "language_info": {
   "codemirror_mode": {
    "name": "ipython",
    "version": 3
   },
   "file_extension": ".py",
   "mimetype": "text/x-python",
   "name": "python",
   "nbconvert_exporter": "python",
   "pygments_lexer": "ipython3",
   "version": "3.7.6"
  }
 },
 "nbformat": 4,
 "nbformat_minor": 4
}
