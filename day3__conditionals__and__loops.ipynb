{
 "cells": [
  {
   "cell_type": "markdown",
   "metadata": {},
   "source": [
    "# condtionals & statements\n",
    "\n",
    "        conditions\n",
    "          - a == b\n",
    "          - a != b\n",
    "          - a < b\n",
    "          - a <= b\n",
    "          - a > b\n",
    "          - a >= b\n",
    "\n",
    "        statements\n",
    "          - if\n",
    "          - elif\n",
    "          - else\n"
   ]
  },
  {
   "cell_type": "code",
   "execution_count": 4,
   "metadata": {},
   "outputs": [
    {
     "name": "stdout",
     "output_type": "stream",
     "text": [
      "True\n",
      "True\n",
      "True\n",
      "True\n",
      "False\n",
      "False\n"
     ]
    }
   ],
   "source": [
    "# conditions\n",
    "a = 5\n",
    "b = 7\n",
    "c = 7\n",
    "\n",
    "print(b == c)\n",
    "\n",
    "print(a != b)\n",
    "\n",
    "print(a < b)\n",
    "\n",
    "print(a <= b)\n",
    "\n",
    "print(a > b)\n",
    "\n",
    "print(a >= b)"
   ]
  },
  {
   "cell_type": "markdown",
   "metadata": {},
   "source": [
    "### statements"
   ]
  },
  {
   "cell_type": "code",
   "execution_count": 8,
   "metadata": {},
   "outputs": [
    {
     "name": "stdout",
     "output_type": "stream",
     "text": [
      "Yes!\n"
     ]
    }
   ],
   "source": [
    "# if\n",
    "\n",
    "a = 2\n",
    "b = 3\n",
    "if a < b:\n",
    "    print('Yes!')\n",
    "    \n",
    "# if condition is false then it won't return anything"
   ]
  },
  {
   "cell_type": "code",
   "execution_count": 10,
   "metadata": {},
   "outputs": [
    {
     "name": "stdout",
     "output_type": "stream",
     "text": [
      "a is less than b\n"
     ]
    }
   ],
   "source": [
    "# elif\n",
    "\n",
    "a = 2\n",
    "b = 3\n",
    "\n",
    "if a > b:\n",
    "    print('a is greater than b')\n",
    "elif a < b:\n",
    "    print('a is less than b')"
   ]
  },
  {
   "cell_type": "code",
   "execution_count": 12,
   "metadata": {},
   "outputs": [
    {
     "name": "stdout",
     "output_type": "stream",
     "text": [
      "a is less than b\n"
     ]
    }
   ],
   "source": [
    "# else\n",
    "\n",
    "a = 2\n",
    "b = 3\n",
    "\n",
    "if a > b:\n",
    "    print('a is greater than b')\n",
    "elif a < b:\n",
    "    print('a is less than b')\n",
    "else:\n",
    "    print('a is equal to b')"
   ]
  },
  {
   "cell_type": "code",
   "execution_count": 14,
   "metadata": {},
   "outputs": [
    {
     "name": "stdout",
     "output_type": "stream",
     "text": [
      "a is less than b\n"
     ]
    }
   ],
   "source": [
    "# short-hand if\n",
    "\n",
    "a = 2\n",
    "b = 3\n",
    "if a < b: print('a is less than b')"
   ]
  },
  {
   "cell_type": "code",
   "execution_count": 16,
   "metadata": {},
   "outputs": [
    {
     "name": "stdout",
     "output_type": "stream",
     "text": [
      "a is greater than b\n"
     ]
    }
   ],
   "source": [
    "# short-hand if-else\n",
    "a = 4\n",
    "b = 3\n",
    "\n",
    "print('a is less than b') if a < b else print('a is greater than b')"
   ]
  },
  {
   "cell_type": "code",
   "execution_count": 18,
   "metadata": {},
   "outputs": [
    {
     "name": "stdout",
     "output_type": "stream",
     "text": [
      "both condtions are correct\n"
     ]
    }
   ],
   "source": [
    "# and\n",
    "\n",
    "a = 2\n",
    "b = 3\n",
    "b = 4\n",
    "\n",
    "if a < b and b < c:\n",
    "    print('both condtions are correct')\n",
    "else:\n",
    "    print('wrong condtions')"
   ]
  },
  {
   "cell_type": "code",
   "execution_count": 20,
   "metadata": {},
   "outputs": [
    {
     "name": "stdout",
     "output_type": "stream",
     "text": [
      "atleat one condtion is true\n"
     ]
    }
   ],
   "source": [
    "# or\n",
    "\n",
    "a = 2\n",
    "b = 3\n",
    "b = 4\n",
    "\n",
    "if a < b or b > c:\n",
    "    print('atleat one condtion is true')\n",
    "else:\n",
    "    print('wrong conditions')"
   ]
  }
 ],
 "metadata": {
  "kernelspec": {
   "display_name": "Python 3",
   "language": "python",
   "name": "python3"
  },
  "language_info": {
   "codemirror_mode": {
    "name": "ipython",
    "version": 3
   },
   "file_extension": ".py",
   "mimetype": "text/x-python",
   "name": "python",
   "nbconvert_exporter": "python",
   "pygments_lexer": "ipython3",
   "version": "3.7.6"
  }
 },
 "nbformat": 4,
 "nbformat_minor": 4
}
