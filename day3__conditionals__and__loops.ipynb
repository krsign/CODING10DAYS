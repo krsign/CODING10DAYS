{
 "cells": [
  {
   "cell_type": "markdown",
   "metadata": {},
   "source": [
    "# condtionals & statements\n",
    "\n",
    "        conditions\n",
    "          - a == b\n",
    "          - a != b\n",
    "          - a < b\n",
    "          - a <= b\n",
    "          - a > b\n",
    "          - a >= b\n",
    "\n",
    "        statements\n",
    "          - if\n",
    "          - elif\n",
    "          - else\n"
   ]
  },
  {
   "cell_type": "code",
   "execution_count": 4,
   "metadata": {},
   "outputs": [
    {
     "name": "stdout",
     "output_type": "stream",
     "text": [
      "True\n",
      "True\n",
      "True\n",
      "True\n",
      "False\n",
      "False\n"
     ]
    }
   ],
   "source": [
    "# conditions\n",
    "a = 5\n",
    "b = 7\n",
    "c = 7\n",
    "\n",
    "print(b == c)\n",
    "\n",
    "print(a != b)\n",
    "\n",
    "print(a < b)\n",
    "\n",
    "print(a <= b)\n",
    "\n",
    "print(a > b)\n",
    "\n",
    "print(a >= b)"
   ]
  },
  {
   "cell_type": "markdown",
   "metadata": {},
   "source": [
    "### statements"
   ]
  },
  {
   "cell_type": "code",
   "execution_count": 8,
   "metadata": {},
   "outputs": [
    {
     "name": "stdout",
     "output_type": "stream",
     "text": [
      "Yes!\n"
     ]
    }
   ],
   "source": [
    "# if\n",
    "\n",
    "a = 2\n",
    "b = 3\n",
    "if a < b:\n",
    "    print('Yes!')\n",
    "    \n",
    "# if condition is false then it won't return anything"
   ]
  },
  {
   "cell_type": "code",
   "execution_count": 10,
   "metadata": {},
   "outputs": [
    {
     "name": "stdout",
     "output_type": "stream",
     "text": [
      "a is less than b\n"
     ]
    }
   ],
   "source": [
    "# elif\n",
    "\n",
    "a = 2\n",
    "b = 3\n",
    "\n",
    "if a > b:\n",
    "    print('a is greater than b')\n",
    "elif a < b:\n",
    "    print('a is less than b')"
   ]
  },
  {
   "cell_type": "code",
   "execution_count": 12,
   "metadata": {},
   "outputs": [
    {
     "name": "stdout",
     "output_type": "stream",
     "text": [
      "a is less than b\n"
     ]
    }
   ],
   "source": [
    "# else\n",
    "\n",
    "a = 2\n",
    "b = 3\n",
    "\n",
    "if a > b:\n",
    "    print('a is greater than b')\n",
    "elif a < b:\n",
    "    print('a is less than b')\n",
    "else:\n",
    "    print('a is equal to b')"
   ]
  },
  {
   "cell_type": "code",
   "execution_count": 14,
   "metadata": {},
   "outputs": [
    {
     "name": "stdout",
     "output_type": "stream",
     "text": [
      "a is less than b\n"
     ]
    }
   ],
   "source": [
    "# short-hand if\n",
    "\n",
    "a = 2\n",
    "b = 3\n",
    "if a < b: print('a is less than b')"
   ]
  },
  {
   "cell_type": "code",
   "execution_count": 16,
   "metadata": {},
   "outputs": [
    {
     "name": "stdout",
     "output_type": "stream",
     "text": [
      "a is greater than b\n"
     ]
    }
   ],
   "source": [
    "# short-hand if-else\n",
    "a = 4\n",
    "b = 3\n",
    "\n",
    "print('a is less than b') if a < b else print('a is greater than b')"
   ]
  },
  {
   "cell_type": "code",
   "execution_count": 18,
   "metadata": {},
   "outputs": [
    {
     "name": "stdout",
     "output_type": "stream",
     "text": [
      "both condtions are correct\n"
     ]
    }
   ],
   "source": [
    "# and\n",
    "\n",
    "a = 2\n",
    "b = 3\n",
    "b = 4\n",
    "\n",
    "if a < b and b < c:\n",
    "    print('both condtions are correct')\n",
    "else:\n",
    "    print('wrong condtions')"
   ]
  },
  {
   "cell_type": "code",
   "execution_count": 20,
   "metadata": {},
   "outputs": [
    {
     "name": "stdout",
     "output_type": "stream",
     "text": [
      "atleat one condtion is true\n"
     ]
    }
   ],
   "source": [
    "# or\n",
    "\n",
    "a = 2\n",
    "b = 3\n",
    "b = 4\n",
    "\n",
    "if a < b or b > c:\n",
    "    print('atleat one condtion is true')\n",
    "else:\n",
    "    print('wrong conditions')"
   ]
  },
  {
   "cell_type": "markdown",
   "metadata": {},
   "source": [
    "# loops\n",
    "    - while\n",
    "    - for"
   ]
  },
  {
   "cell_type": "markdown",
   "metadata": {},
   "source": [
    "### while loop"
   ]
  },
  {
   "cell_type": "code",
   "execution_count": 32,
   "metadata": {},
   "outputs": [
    {
     "name": "stdout",
     "output_type": "stream",
     "text": [
      "5\n",
      "6\n",
      "7\n",
      "8\n",
      "9\n"
     ]
    }
   ],
   "source": [
    "# while loop : runs till condition is true\n",
    "\n",
    "i = 5\n",
    "\n",
    "while i < 10:\n",
    "    print(i)\n",
    "    i += 1\n",
    "    \n",
    "# note : use increment statement, otherwise it will continue forever"
   ]
  },
  {
   "cell_type": "code",
   "execution_count": 37,
   "metadata": {},
   "outputs": [
    {
     "name": "stdout",
     "output_type": "stream",
     "text": [
      "1\n",
      "2\n",
      "3\n"
     ]
    }
   ],
   "source": [
    "# break statement : if condtion is true then it will stop iteratons\n",
    "\n",
    "i = 1\n",
    "\n",
    "while i < 10:\n",
    "    print(i)\n",
    "    if i == 3:\n",
    "        break\n",
    "    i += 1"
   ]
  },
  {
   "cell_type": "code",
   "execution_count": null,
   "metadata": {},
   "outputs": [],
   "source": []
  },
  {
   "cell_type": "code",
   "execution_count": 38,
   "metadata": {},
   "outputs": [
    {
     "name": "stdout",
     "output_type": "stream",
     "text": [
      "2\n",
      "3\n",
      "4\n",
      "6\n"
     ]
    }
   ],
   "source": [
    "# continue statement: when it matches the conditions it jumps to next conditions for iterations\n",
    "\n",
    "i = 1\n",
    "\n",
    "while i < 6:\n",
    "    i += 1\n",
    "    if i == 5:\n",
    "        continue\n",
    "    print(i)"
   ]
  },
  {
   "cell_type": "markdown",
   "metadata": {},
   "source": [
    "### for loop\n",
    "    - used to iterate sequence(lists,tuples,sets,dictions or strings)"
   ]
  },
  {
   "cell_type": "code",
   "execution_count": 42,
   "metadata": {},
   "outputs": [
    {
     "name": "stdout",
     "output_type": "stream",
     "text": [
      "p\n",
      "y\n",
      "h\n",
      "t\n",
      "o\n",
      "n\n"
     ]
    }
   ],
   "source": [
    "for char in 'pyhton':\n",
    "    print(char)"
   ]
  },
  {
   "cell_type": "code",
   "execution_count": 48,
   "metadata": {},
   "outputs": [
    {
     "name": "stdout",
     "output_type": "stream",
     "text": [
      "1\n",
      "2\n",
      "3\n",
      "-\n",
      "5\n",
      "6\n",
      "7\n"
     ]
    }
   ],
   "source": [
    "# break and continue statement in for loop\n",
    "\n",
    "t = (1,2,3,4,5,6)\n",
    "for i in t:\n",
    "    if i == 4:\n",
    "        break\n",
    "    print(i)\n",
    "print('-')\n",
    "l = [4,5,6,7]\n",
    "for i in l:\n",
    "    if i == 4:\n",
    "        continue\n",
    "    print(i)"
   ]
  },
  {
   "cell_type": "code",
   "execution_count": 51,
   "metadata": {},
   "outputs": [
    {
     "name": "stdout",
     "output_type": "stream",
     "text": [
      "2\n",
      "3\n",
      "4\n"
     ]
    }
   ],
   "source": [
    "# for loop using range()\n",
    "\n",
    "for i in range(2, 5):\n",
    "    print(i)"
   ]
  },
  {
   "cell_type": "code",
   "execution_count": 53,
   "metadata": {},
   "outputs": [
    {
     "name": "stdout",
     "output_type": "stream",
     "text": [
      "1\n",
      "4\n",
      "7\n"
     ]
    }
   ],
   "source": [
    "# range strides\n",
    "\n",
    "for i in range(1,10,3):\n",
    "    print(i)"
   ]
  },
  {
   "cell_type": "code",
   "execution_count": 59,
   "metadata": {},
   "outputs": [
    {
     "name": "stdout",
     "output_type": "stream",
     "text": [
      "2\n",
      "outside!\n"
     ]
    }
   ],
   "source": [
    "# Else in for loop\n",
    "\n",
    "for i in range(3):\n",
    "    if i == 2:\n",
    "        print(i)\n",
    "else:\n",
    "    print('outside!')"
   ]
  },
  {
   "cell_type": "code",
   "execution_count": 116,
   "metadata": {},
   "outputs": [
    {
     "name": "stdout",
     "output_type": "stream",
     "text": [
      "1\t2\t3\t4\t5\t\n",
      "\n",
      "2\t4\t6\t8\t10\t\n",
      "\n",
      "3\t6\t9\t12\t15\t\n",
      "\n",
      "4\t8\t12\t16\t20\t\n",
      "\n",
      "5\t10\t15\t20\t25\t\n",
      "\n",
      "6\t12\t18\t24\t30\t\n",
      "\n",
      "7\t14\t21\t28\t35\t\n",
      "\n",
      "8\t16\t24\t32\t40\t\n",
      "\n",
      "9\t18\t27\t36\t45\t\n",
      "\n",
      "10\t20\t30\t40\t50\t\n",
      "\n"
     ]
    }
   ],
   "source": [
    "# nested for loop\n",
    "\n",
    "for i in range(1,11):\n",
    "    \n",
    "    for j in range(1,6):\n",
    "        k = j * i\n",
    "        print(k, end='\\t')\n",
    "        \n",
    "    print('\\n')"
   ]
  }
 ],
 "metadata": {
  "kernelspec": {
   "display_name": "Python 3",
   "language": "python",
   "name": "python3"
  },
  "language_info": {
   "codemirror_mode": {
    "name": "ipython",
    "version": 3
   },
   "file_extension": ".py",
   "mimetype": "text/x-python",
   "name": "python",
   "nbconvert_exporter": "python",
   "pygments_lexer": "ipython3",
   "version": "3.7.6"
  }
 },
 "nbformat": 4,
 "nbformat_minor": 4
}
