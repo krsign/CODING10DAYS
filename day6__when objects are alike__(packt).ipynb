{
 "cells": [
  {
   "cell_type": "markdown",
   "metadata": {},
   "source": [
    "# basic inheritance\n",
    "    - every class we create uses inheritance\n",
    "    - all python classes are subclasses of the special class named object"
   ]
  },
  {
   "cell_type": "code",
   "execution_count": 1,
   "metadata": {},
   "outputs": [],
   "source": [
    "class MySubClass(object):\n",
    "    pass"
   ]
  },
  {
   "cell_type": "code",
   "execution_count": 2,
   "metadata": {},
   "outputs": [],
   "source": [
    "class Contact:\n",
    "    all_contacts = []\n",
    "    \n",
    "    def __init__(self, name, email):\n",
    "        self.name = name\n",
    "        self.email = email\n",
    "        Contact.all_contacts.append(self)"
   ]
  },
  {
   "cell_type": "code",
   "execution_count": 3,
   "metadata": {},
   "outputs": [],
   "source": [
    "class Supplier(Contact):\n",
    "    def order(self, order):\n",
    "        print('if this were a real system we would send: {} to {} '.format(order, self.name))"
   ]
  },
  {
   "cell_type": "code",
   "execution_count": 4,
   "metadata": {},
   "outputs": [],
   "source": [
    "c = Contact('krsign', 'nowimkr@gmail.com')\n",
    "s = Supplier('kumar', 'kumar@gmail.com')"
   ]
  },
  {
   "cell_type": "code",
   "execution_count": 5,
   "metadata": {},
   "outputs": [
    {
     "name": "stdout",
     "output_type": "stream",
     "text": [
      "krsign nowimkr@gmail.com | kumar kumar@gmail.com\n"
     ]
    }
   ],
   "source": [
    "print(c.name, c.email,'|', s.name, s.email)"
   ]
  },
  {
   "cell_type": "code",
   "execution_count": 6,
   "metadata": {},
   "outputs": [
    {
     "name": "stdout",
     "output_type": "stream",
     "text": [
      "[<__main__.Contact object at 0x109004a50>, <__main__.Supplier object at 0x109004a10>]\n"
     ]
    }
   ],
   "source": [
    "print(c.all_contacts)"
   ]
  },
  {
   "cell_type": "code",
   "execution_count": 7,
   "metadata": {},
   "outputs": [],
   "source": [
    "# c.order('bike')"
   ]
  },
  {
   "cell_type": "code",
   "execution_count": 8,
   "metadata": {},
   "outputs": [
    {
     "name": "stdout",
     "output_type": "stream",
     "text": [
      "if this were a real system we would send: bike to kumar \n"
     ]
    }
   ],
   "source": [
    "s.order('bike')"
   ]
  },
  {
   "cell_type": "markdown",
   "metadata": {},
   "source": [
    "# extending built-ins"
   ]
  },
  {
   "cell_type": "code",
   "execution_count": 9,
   "metadata": {},
   "outputs": [],
   "source": [
    "class ContactList(list):\n",
    "    def search(self, name):\n",
    "        matching_contacts = []\n",
    "        \n",
    "        for contact in self:\n",
    "            if name in contact.name:\n",
    "                matching_contacts.append(contact)\n",
    "                \n",
    "        return matching_contacts"
   ]
  },
  {
   "cell_type": "code",
   "execution_count": 10,
   "metadata": {},
   "outputs": [],
   "source": [
    "class Contact:\n",
    "    all_contacts = ContactList()\n",
    "    \n",
    "    def __init__(self, name, email):\n",
    "        self.name = name\n",
    "        self.email = email\n",
    "        self.all_contacts.append(self)"
   ]
  },
  {
   "cell_type": "code",
   "execution_count": 11,
   "metadata": {},
   "outputs": [],
   "source": [
    "c1 = Contact('kr a', 'nowimkra@gmail.com')\n",
    "c2 = Contact('kr b', 'nowimkrb@gmail.com')\n",
    "c1 = Contact('bro c', 'krsign@gmail.com')"
   ]
  },
  {
   "cell_type": "code",
   "execution_count": 12,
   "metadata": {},
   "outputs": [
    {
     "data": {
      "text/plain": [
       "[('kr a', 'nowimkra@gmail.com'), ('kr b', 'nowimkrb@gmail.com')]"
      ]
     },
     "execution_count": 12,
     "metadata": {},
     "output_type": "execute_result"
    }
   ],
   "source": [
    "[(c.name, c.email) for c in Contact.all_contacts.search('kr')]"
   ]
  },
  {
   "cell_type": "markdown",
   "metadata": {},
   "source": [
    "# overriding and super"
   ]
  },
  {
   "cell_type": "code",
   "execution_count": 13,
   "metadata": {},
   "outputs": [],
   "source": [
    "class Friend(Contact):\n",
    "    def __init__(self, name, phone, email):\n",
    "        self.name = name\n",
    "        self.email = email\n",
    "        self.phone = phone"
   ]
  },
  {
   "cell_type": "code",
   "execution_count": 14,
   "metadata": {},
   "outputs": [],
   "source": [
    "f1 = Friend('friend1', 'friend1@gmail.com', 9102945782)\n",
    "f2 = Friend('friend2', 'friend2@gmail.com', 9102945783)"
   ]
  },
  {
   "cell_type": "code",
   "execution_count": 15,
   "metadata": {},
   "outputs": [
    {
     "name": "stdout",
     "output_type": "stream",
     "text": [
      "friend1 9102945782 friend1@gmail.com\n",
      "friend2 9102945783 friend2@gmail.com\n"
     ]
    }
   ],
   "source": [
    "print(f1.name, f1.email, f1.phone)\n",
    "print(f2.name, f2.email, f2.phone)\n",
    "\n",
    "# print(Friend.all_contacts[1].name)"
   ]
  },
  {
   "cell_type": "code",
   "execution_count": 16,
   "metadata": {},
   "outputs": [],
   "source": [
    "class Friend(Contact):\n",
    "    def __init__(self, name, email, phone):\n",
    "        super().__init__(name, email)\n",
    "        self.phone = phone\n",
    "        \n",
    "f1 = Friend('frnd1', 'frnd1@gmail.com', 9102945784)\n",
    "f2 = Friend('frnd2', 'frnd2@gmail.com', 9102945785)"
   ]
  },
  {
   "cell_type": "code",
   "execution_count": 17,
   "metadata": {},
   "outputs": [
    {
     "name": "stdout",
     "output_type": "stream",
     "text": [
      "frnd1 frnd1@gmail.com 9102945784\n",
      "frnd2 frnd2@gmail.com 9102945785\n"
     ]
    }
   ],
   "source": [
    "print(f1.name, f1.email, f1.phone)\n",
    "print(f2.name, f2.email, f2.phone)"
   ]
  },
  {
   "cell_type": "markdown",
   "metadata": {},
   "source": [
    "# multiple inheritance\n",
    "        - subclass inherits from more than one parent class\n",
    "        - it is less recommended "
   ]
  },
  {
   "cell_type": "code",
   "execution_count": 18,
   "metadata": {},
   "outputs": [],
   "source": [
    "class MailSender:\n",
    "    def send_mail(self, message):\n",
    "        print('sending mail to '+ self.email)"
   ]
  },
  {
   "cell_type": "code",
   "execution_count": 19,
   "metadata": {},
   "outputs": [],
   "source": [
    "class EmailableContact(Contact, MailSender):\n",
    "    pass"
   ]
  },
  {
   "cell_type": "code",
   "execution_count": 20,
   "metadata": {},
   "outputs": [],
   "source": [
    "e = EmailableContact('krishna', 'nowimkr@gmail.com')"
   ]
  },
  {
   "cell_type": "code",
   "execution_count": 21,
   "metadata": {},
   "outputs": [
    {
     "data": {
      "text/plain": [
       "[<__main__.Contact at 0x108ea52d0>,\n",
       " <__main__.Contact at 0x108ea5290>,\n",
       " <__main__.Contact at 0x108ea5150>,\n",
       " <__main__.Friend at 0x10903aed0>,\n",
       " <__main__.Friend at 0x109027490>,\n",
       " <__main__.EmailableContact at 0x10900ab90>]"
      ]
     },
     "execution_count": 21,
     "metadata": {},
     "output_type": "execute_result"
    }
   ],
   "source": [
    "Contact.all_contacts"
   ]
  },
  {
   "cell_type": "code",
   "execution_count": 22,
   "metadata": {},
   "outputs": [
    {
     "name": "stdout",
     "output_type": "stream",
     "text": [
      "sending mail to nowimkr@gmail.com\n"
     ]
    }
   ],
   "source": [
    "e.send_mail('Hello')"
   ]
  },
  {
   "cell_type": "code",
   "execution_count": 23,
   "metadata": {},
   "outputs": [],
   "source": [
    "class AddressHolder:\n",
    "    def __init__(self, street, city, state, code):\n",
    "        self.street = street\n",
    "        self.city = city\n",
    "        self.state = state\n",
    "        self.code = code"
   ]
  },
  {
   "cell_type": "markdown",
   "metadata": {},
   "source": [
    "### diamond problem naive"
   ]
  },
  {
   "cell_type": "code",
   "execution_count": 24,
   "metadata": {},
   "outputs": [],
   "source": [
    "class Friend(Contact, AddressHolder):\n",
    "    def __init__(self, name, email, phone, street, city, state, code):\n",
    "        Contact.__init__(self, name, email)\n",
    "        AddressHolder.__init__(self, street, city, state, code)\n",
    "        self.phone = phone"
   ]
  },
  {
   "cell_type": "markdown",
   "metadata": {},
   "source": [
    "##                                   diamond inheritance\n",
    "\n",
    "\n",
    "                                BaseClass\n",
    "                                +call_me()\n",
    "                                \n",
    "             LeftSubClass                         RightSubClass\n",
    "              +call_me()                           +call_me()\n",
    "              \n",
    "                                SubClass\n",
    "                                +call_me()"
   ]
  },
  {
   "cell_type": "code",
   "execution_count": 31,
   "metadata": {},
   "outputs": [],
   "source": [
    "class BaseClass:\n",
    "    num_base_calls = 0\n",
    "    \n",
    "    def call_me(self):\n",
    "        \n",
    "        print('Calling method on BaseClass')\n",
    "        self.num_base_calls += 1"
   ]
  },
  {
   "cell_type": "code",
   "execution_count": 32,
   "metadata": {},
   "outputs": [],
   "source": [
    "class LeftSubClass(BaseClass):\n",
    "    \n",
    "    num_left_calls = 0\n",
    "    \n",
    "    def call_me(self):\n",
    "        \n",
    "        BaseClass.call_me(self)\n",
    "        print('Calling method on LeftSubClass')\n",
    "        self.num_left_calls += 1"
   ]
  },
  {
   "cell_type": "code",
   "execution_count": 33,
   "metadata": {},
   "outputs": [],
   "source": [
    "class RightSubClass(BaseClass):\n",
    "    \n",
    "    num_right_calls = 0\n",
    "    \n",
    "    def call_me(self):\n",
    "        \n",
    "        BaseClass.call_me(self)\n",
    "        print('Calling method on RightSubClass')\n",
    "        self.num_right_calls += 1\n",
    "        "
   ]
  },
  {
   "cell_type": "code",
   "execution_count": 34,
   "metadata": {},
   "outputs": [],
   "source": [
    "class SubClass(LeftSubClass, RightSubClass):\n",
    "    \n",
    "    num_sub_call = 0\n",
    "    \n",
    "    def call_me(self):\n",
    "        \n",
    "        LeftSubClass.call_me(self)\n",
    "        RightSubClass.call_me(self)\n",
    "        print('Calling method on SubClass')\n",
    "        self.num_sub_call += 1\n",
    "        "
   ]
  },
  {
   "cell_type": "code",
   "execution_count": 35,
   "metadata": {},
   "outputs": [],
   "source": [
    "s = SubClass()"
   ]
  },
  {
   "cell_type": "code",
   "execution_count": 36,
   "metadata": {},
   "outputs": [
    {
     "name": "stdout",
     "output_type": "stream",
     "text": [
      "Calling method on BaseClass\n",
      "Calling method on LeftSubClass\n",
      "Calling method on BaseClass\n",
      "Calling method on RightSubClass\n",
      "Calling method on SubClass\n"
     ]
    }
   ],
   "source": [
    "s.call_me()"
   ]
  }
 ],
 "metadata": {
  "kernelspec": {
   "display_name": "Python 3",
   "language": "python",
   "name": "python3"
  },
  "language_info": {
   "codemirror_mode": {
    "name": "ipython",
    "version": 3
   },
   "file_extension": ".py",
   "mimetype": "text/x-python",
   "name": "python",
   "nbconvert_exporter": "python",
   "pygments_lexer": "ipython3",
   "version": "3.7.6"
  }
 },
 "nbformat": 4,
 "nbformat_minor": 4
}
