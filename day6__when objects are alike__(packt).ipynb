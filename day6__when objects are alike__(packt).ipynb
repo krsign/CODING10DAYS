{
 "cells": [
  {
   "cell_type": "markdown",
   "metadata": {},
   "source": [
    "# basic inheritance\n",
    "    - every class we create uses inheritance\n",
    "    - all python classes are subclasses of the special class named object"
   ]
  },
  {
   "cell_type": "code",
   "execution_count": 8,
   "metadata": {},
   "outputs": [],
   "source": [
    "class MySubClass(object):\n",
    "    pass"
   ]
  },
  {
   "cell_type": "code",
   "execution_count": 9,
   "metadata": {},
   "outputs": [],
   "source": [
    "class Contact:\n",
    "    all_contacts = []\n",
    "    \n",
    "    def __init__(self, name, email):\n",
    "        self.name = name\n",
    "        self.email = email\n",
    "        Contact.all_contacts.append(self)"
   ]
  },
  {
   "cell_type": "code",
   "execution_count": 10,
   "metadata": {},
   "outputs": [],
   "source": [
    "class Supplier(Contact):\n",
    "    def order(self, order):\n",
    "        print('if this were a real system we would send: {} to {} '.format(order, self.name))"
   ]
  },
  {
   "cell_type": "code",
   "execution_count": 11,
   "metadata": {},
   "outputs": [],
   "source": [
    "c = Contact('krsign', 'nowimkr@gmail.com')\n",
    "s = Supplier('kumar', 'kumar@gmail.com')"
   ]
  },
  {
   "cell_type": "code",
   "execution_count": 12,
   "metadata": {},
   "outputs": [
    {
     "name": "stdout",
     "output_type": "stream",
     "text": [
      "krsign nowimkr@gmail.com | kumar kumar@gmail.com\n"
     ]
    }
   ],
   "source": [
    "print(c.name, c.email,'|', s.name, s.email)"
   ]
  },
  {
   "cell_type": "code",
   "execution_count": 13,
   "metadata": {},
   "outputs": [
    {
     "name": "stdout",
     "output_type": "stream",
     "text": [
      "[<__main__.Contact object at 0x1064aa750>, <__main__.Supplier object at 0x1064aa490>]\n"
     ]
    }
   ],
   "source": [
    "print(c.all_contacts)"
   ]
  },
  {
   "cell_type": "code",
   "execution_count": 14,
   "metadata": {},
   "outputs": [
    {
     "ename": "AttributeError",
     "evalue": "'Contact' object has no attribute 'order'",
     "output_type": "error",
     "traceback": [
      "\u001b[0;31m---------------------------------------------------------------------------\u001b[0m",
      "\u001b[0;31mAttributeError\u001b[0m                            Traceback (most recent call last)",
      "\u001b[0;32m<ipython-input-14-142fdd83e001>\u001b[0m in \u001b[0;36m<module>\u001b[0;34m\u001b[0m\n\u001b[0;32m----> 1\u001b[0;31m \u001b[0mc\u001b[0m\u001b[0;34m.\u001b[0m\u001b[0morder\u001b[0m\u001b[0;34m(\u001b[0m\u001b[0;34m'bike'\u001b[0m\u001b[0;34m)\u001b[0m\u001b[0;34m\u001b[0m\u001b[0;34m\u001b[0m\u001b[0m\n\u001b[0m",
      "\u001b[0;31mAttributeError\u001b[0m: 'Contact' object has no attribute 'order'"
     ]
    }
   ],
   "source": [
    "c.order('bike')"
   ]
  },
  {
   "cell_type": "code",
   "execution_count": 15,
   "metadata": {},
   "outputs": [
    {
     "name": "stdout",
     "output_type": "stream",
     "text": [
      "if this were a real system we would send: bike to kumar \n"
     ]
    }
   ],
   "source": [
    "s.order('bike')"
   ]
  },
  {
   "cell_type": "markdown",
   "metadata": {},
   "source": [
    "# extending built-ins"
   ]
  },
  {
   "cell_type": "code",
   "execution_count": 16,
   "metadata": {},
   "outputs": [],
   "source": [
    "class ContactList(list):\n",
    "    def search(self, name):\n",
    "        matching_contacts = []\n",
    "        \n",
    "        for contact in self:\n",
    "            if name in contact.name:\n",
    "                matching_contacts.append(contact)\n",
    "                \n",
    "        return matching_contacts"
   ]
  },
  {
   "cell_type": "code",
   "execution_count": 17,
   "metadata": {},
   "outputs": [],
   "source": [
    "class Contact:\n",
    "    all_contacts = ContactList()\n",
    "    \n",
    "    def __init__(self, name, email):\n",
    "        self.name = name\n",
    "        self.email = email\n",
    "        self.all_contacts.append(self)"
   ]
  },
  {
   "cell_type": "code",
   "execution_count": 18,
   "metadata": {},
   "outputs": [],
   "source": [
    "c1 = Contact('kr a', 'nowimkra@gmail.com')\n",
    "c2 = Contact('kr b', 'nowimkrb@gmail.com')\n",
    "c1 = Contact('bro c', 'krsign@gmail.com')"
   ]
  },
  {
   "cell_type": "code",
   "execution_count": 19,
   "metadata": {},
   "outputs": [
    {
     "data": {
      "text/plain": [
       "[('kr a', 'nowimkra@gmail.com'), ('kr b', 'nowimkrb@gmail.com')]"
      ]
     },
     "execution_count": 19,
     "metadata": {},
     "output_type": "execute_result"
    }
   ],
   "source": [
    "[(c.name, c.email) for c in Contact.all_contacts.search('kr')]"
   ]
  },
  {
   "cell_type": "markdown",
   "metadata": {},
   "source": [
    "# overriding and super"
   ]
  },
  {
   "cell_type": "code",
   "execution_count": 21,
   "metadata": {},
   "outputs": [],
   "source": [
    "class Friend(Contact):\n",
    "    def __init__(self, name, phone, email):\n",
    "        self.name = name\n",
    "        self.email = email\n",
    "        self.phone = phone"
   ]
  },
  {
   "cell_type": "code",
   "execution_count": 22,
   "metadata": {},
   "outputs": [],
   "source": [
    "f1 = Friend('friend1', 'friend1@gmail.com', 9102945782)\n",
    "f2 = Friend('friend2', 'friend2@gmail.com', 9102945783)"
   ]
  },
  {
   "cell_type": "code",
   "execution_count": 31,
   "metadata": {},
   "outputs": [
    {
     "name": "stdout",
     "output_type": "stream",
     "text": [
      "friend1 9102945782 friend1@gmail.com\n",
      "friend2 9102945783 friend2@gmail.com\n"
     ]
    }
   ],
   "source": [
    "print(f1.name, f1.email, f1.phone)\n",
    "print(f2.name, f2.email, f2.phone)\n",
    "\n",
    "# print(Friend.all_contacts[1].name)"
   ]
  },
  {
   "cell_type": "code",
   "execution_count": 32,
   "metadata": {},
   "outputs": [],
   "source": [
    "class Friend(Contact):\n",
    "    def __init__(self, name, email, phone):\n",
    "        super().__init__(name, email)\n",
    "        self.phone = phone"
   ]
  }
 ],
 "metadata": {
  "kernelspec": {
   "display_name": "Python 3",
   "language": "python",
   "name": "python3"
  },
  "language_info": {
   "codemirror_mode": {
    "name": "ipython",
    "version": 3
   },
   "file_extension": ".py",
   "mimetype": "text/x-python",
   "name": "python",
   "nbconvert_exporter": "python",
   "pygments_lexer": "ipython3",
   "version": "3.7.6"
  }
 },
 "nbformat": 4,
 "nbformat_minor": 4
}
